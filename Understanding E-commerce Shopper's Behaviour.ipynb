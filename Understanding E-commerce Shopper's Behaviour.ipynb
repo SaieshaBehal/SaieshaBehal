{
 "cells": [
  {
   "cell_type": "code",
   "execution_count": 1,
   "id": "ced13095",
   "metadata": {
    "execution": {
     "iopub.execute_input": "2023-03-24T08:25:35.970794Z",
     "iopub.status.busy": "2023-03-24T08:25:35.970240Z",
     "iopub.status.idle": "2023-03-24T08:25:38.437688Z",
     "shell.execute_reply": "2023-03-24T08:25:38.436133Z"
    },
    "papermill": {
     "duration": 2.480389,
     "end_time": "2023-03-24T08:25:38.440889",
     "exception": false,
     "start_time": "2023-03-24T08:25:35.960500",
     "status": "completed"
    },
    "tags": []
   },
   "outputs": [
    {
     "data": {
      "text/html": [
       "<style type='text/css'>\n",
       ".datatable table.frame { margin-bottom: 0; }\n",
       ".datatable table.frame thead { border-bottom: none; }\n",
       ".datatable table.frame tr.coltypes td {  color: #FFFFFF;  line-height: 6px;  padding: 0 0.5em;}\n",
       ".datatable .bool    { background: #DDDD99; }\n",
       ".datatable .object  { background: #565656; }\n",
       ".datatable .int     { background: #5D9E5D; }\n",
       ".datatable .float   { background: #4040CC; }\n",
       ".datatable .str     { background: #CC4040; }\n",
       ".datatable .time    { background: #40CC40; }\n",
       ".datatable .row_index {  background: var(--jp-border-color3);  border-right: 1px solid var(--jp-border-color0);  color: var(--jp-ui-font-color3);  font-size: 9px;}\n",
       ".datatable .frame tbody td { text-align: left; }\n",
       ".datatable .frame tr.coltypes .row_index {  background: var(--jp-border-color0);}\n",
       ".datatable th:nth-child(2) { padding-left: 12px; }\n",
       ".datatable .hellipsis {  color: var(--jp-cell-editor-border-color);}\n",
       ".datatable .vellipsis {  background: var(--jp-layout-color0);  color: var(--jp-cell-editor-border-color);}\n",
       ".datatable .na {  color: var(--jp-cell-editor-border-color);  font-size: 80%;}\n",
       ".datatable .sp {  opacity: 0.25;}\n",
       ".datatable .footer { font-size: 9px; }\n",
       ".datatable .frame_dimensions {  background: var(--jp-border-color3);  border-top: 1px solid var(--jp-border-color0);  color: var(--jp-ui-font-color3);  display: inline-block;  opacity: 0.6;  padding: 1px 10px 1px 5px;}\n",
       "</style>\n"
      ],
      "text/plain": [
       "<IPython.core.display.HTML object>"
      ]
     },
     "metadata": {},
     "output_type": "display_data"
    }
   ],
   "source": [
    "import itertools\n",
    "import os\n",
    "import time\n",
    "import sys\n",
    "import pandas as pd\n",
    "import numpy as np\n",
    "from sklearn.model_selection import train_test_split\n",
    "from lightgbm import LGBMClassifier\n",
    "from sklearn.preprocessing import LabelEncoder\n",
    "from itertools import combinations\n",
    "from sklearn.linear_model import LogisticRegression\n",
    "from sklearn.metrics import roc_auc_score as auc\n",
    "from sklearn.preprocessing import StandardScaler\n",
    "from sklearn.impute import SimpleImputer\n",
    "from sklearn.model_selection import StratifiedKFold\n",
    "from sklearn.model_selection import GridSearchCV\n",
    "from sklearn.metrics import make_scorer\n",
    "from sklearn.metrics import accuracy_score\n",
    "from tqdm import tqdm_notebook as tqdm\n",
    "from sklearn.base import clone\n",
    "from sklearn.metrics import accuracy_score"
   ]
  },
  {
   "cell_type": "code",
   "execution_count": 2,
   "id": "917580f8",
   "metadata": {
    "execution": {
     "iopub.execute_input": "2023-03-24T08:25:38.456656Z",
     "iopub.status.busy": "2023-03-24T08:25:38.456105Z",
     "iopub.status.idle": "2023-03-24T08:25:39.561671Z",
     "shell.execute_reply": "2023-03-24T08:25:39.559739Z"
    },
    "papermill": {
     "duration": 1.117129,
     "end_time": "2023-03-24T08:25:39.564959",
     "exception": false,
     "start_time": "2023-03-24T08:25:38.447830",
     "status": "completed"
    },
    "tags": []
   },
   "outputs": [
    {
     "name": "stdout",
     "output_type": "stream",
     "text": [
      "__notebook__.ipynb\r\n"
     ]
    }
   ],
   "source": [
    "!ls"
   ]
  },
  {
   "cell_type": "code",
   "execution_count": 3,
   "id": "53b6b60d",
   "metadata": {
    "execution": {
     "iopub.execute_input": "2023-03-24T08:25:39.582416Z",
     "iopub.status.busy": "2023-03-24T08:25:39.581670Z",
     "iopub.status.idle": "2023-03-24T08:25:39.586879Z",
     "shell.execute_reply": "2023-03-24T08:25:39.586107Z"
    },
    "papermill": {
     "duration": 0.017423,
     "end_time": "2023-03-24T08:25:39.589238",
     "exception": false,
     "start_time": "2023-03-24T08:25:39.571815",
     "status": "completed"
    },
    "tags": []
   },
   "outputs": [],
   "source": [
    "use_sqrd_feats = False\n",
    "use_combs = False\n",
    "# use_percentile = True\n",
    "encoder_to_use = 'target' #target or label.\n",
    "# if use_sqrd_feats and use_combs:\n",
    "#     raise ValueError(\"saiesha we talked about this. Dont use combinations and squared feats together\")"
   ]
  },
  {
   "cell_type": "code",
   "execution_count": 4,
   "id": "a8c972b8",
   "metadata": {
    "execution": {
     "iopub.execute_input": "2023-03-24T08:25:39.606383Z",
     "iopub.status.busy": "2023-03-24T08:25:39.605670Z",
     "iopub.status.idle": "2023-03-24T08:25:39.747903Z",
     "shell.execute_reply": "2023-03-24T08:25:39.746932Z"
    },
    "papermill": {
     "duration": 0.154179,
     "end_time": "2023-03-24T08:25:39.750902",
     "exception": false,
     "start_time": "2023-03-24T08:25:39.596723",
     "status": "completed"
    },
    "tags": []
   },
   "outputs": [],
   "source": [
    "df_train = pd.read_csv(\"/kaggle/input/e-commerce-shoppers-behaviour-understanding/train_data_v2.csv\")\n",
    "df_test = pd.read_csv(\"/kaggle/input/e-commerce-shoppers-behaviour-understanding/test_data_v2.csv\")"
   ]
  },
  {
   "cell_type": "code",
   "execution_count": 5,
   "id": "be83cb28",
   "metadata": {
    "execution": {
     "iopub.execute_input": "2023-03-24T08:25:39.767202Z",
     "iopub.status.busy": "2023-03-24T08:25:39.766148Z",
     "iopub.status.idle": "2023-03-24T08:25:39.817769Z",
     "shell.execute_reply": "2023-03-24T08:25:39.816033Z"
    },
    "papermill": {
     "duration": 0.063576,
     "end_time": "2023-03-24T08:25:39.821371",
     "exception": false,
     "start_time": "2023-03-24T08:25:39.757795",
     "status": "completed"
    },
    "tags": []
   },
   "outputs": [],
   "source": [
    "df = pd.concat([df_train,df_test], axis=0)\n",
    "# df = df_train\n",
    "df = df.reset_index(drop=True)\n",
    "df_num = df.select_dtypes(include = float).copy(deep=True)\n",
    "df_cat = df.select_dtypes(exclude = float).copy(deep=True)"
   ]
  },
  {
   "cell_type": "code",
   "execution_count": 6,
   "id": "acab0808",
   "metadata": {
    "execution": {
     "iopub.execute_input": "2023-03-24T08:25:39.838245Z",
     "iopub.status.busy": "2023-03-24T08:25:39.837829Z",
     "iopub.status.idle": "2023-03-24T08:25:39.844169Z",
     "shell.execute_reply": "2023-03-24T08:25:39.842732Z"
    },
    "papermill": {
     "duration": 0.018062,
     "end_time": "2023-03-24T08:25:39.846598",
     "exception": false,
     "start_time": "2023-03-24T08:25:39.828536",
     "status": "completed"
    },
    "tags": []
   },
   "outputs": [],
   "source": [
    "if use_sqrd_feats:\n",
    "    for i in df_num.columns:\n",
    "        df_num[i+'_sqrd'] = df_num[i]**2"
   ]
  },
  {
   "cell_type": "code",
   "execution_count": 7,
   "id": "e680c9aa",
   "metadata": {
    "execution": {
     "iopub.execute_input": "2023-03-24T08:25:39.862382Z",
     "iopub.status.busy": "2023-03-24T08:25:39.861971Z",
     "iopub.status.idle": "2023-03-24T08:25:39.867650Z",
     "shell.execute_reply": "2023-03-24T08:25:39.866229Z"
    },
    "papermill": {
     "duration": 0.016572,
     "end_time": "2023-03-24T08:25:39.870153",
     "exception": false,
     "start_time": "2023-03-24T08:25:39.853581",
     "status": "completed"
    },
    "tags": []
   },
   "outputs": [],
   "source": [
    "# if use_percentile:\n",
    "#     for i in df_num.columns:\n",
    "#         if 'sqrd' not in df.columns:"
   ]
  },
  {
   "cell_type": "code",
   "execution_count": 8,
   "id": "1a5b4089",
   "metadata": {
    "execution": {
     "iopub.execute_input": "2023-03-24T08:25:39.888646Z",
     "iopub.status.busy": "2023-03-24T08:25:39.887276Z",
     "iopub.status.idle": "2023-03-24T08:25:39.894223Z",
     "shell.execute_reply": "2023-03-24T08:25:39.893038Z"
    },
    "papermill": {
     "duration": 0.02018,
     "end_time": "2023-03-24T08:25:39.897242",
     "exception": false,
     "start_time": "2023-03-24T08:25:39.877062",
     "status": "completed"
    },
    "tags": []
   },
   "outputs": [],
   "source": [
    "if use_combs:\n",
    "    df_num_adds = {}\n",
    "    for i,j in combinations(df_num.columns,2):\n",
    "        df_num_adds[i+'_mul_' + j] = df_num[i] * df_num[j]\n",
    "        df_num_adds[i+'_div_' + j] = df_num[i] / df_num[j]\n",
    "        new_df = pd.DataFrame(df_num_adds)\n",
    "    df_num = pd.concat([df_num,new_df],axis=1)\n",
    "        "
   ]
  },
  {
   "cell_type": "code",
   "execution_count": 9,
   "id": "df880496",
   "metadata": {
    "execution": {
     "iopub.execute_input": "2023-03-24T08:25:39.912899Z",
     "iopub.status.busy": "2023-03-24T08:25:39.912158Z",
     "iopub.status.idle": "2023-03-24T08:25:39.939503Z",
     "shell.execute_reply": "2023-03-24T08:25:39.938150Z"
    },
    "papermill": {
     "duration": 0.038873,
     "end_time": "2023-03-24T08:25:39.942816",
     "exception": false,
     "start_time": "2023-03-24T08:25:39.903943",
     "status": "completed"
    },
    "tags": []
   },
   "outputs": [],
   "source": [
    "for i in df_num.columns:\n",
    "    ma = df_num[i].replace({np.inf:-np.inf}).max()\n",
    "    mi = df_num[i].replace({-np.inf:np.inf}).min()\n",
    "    ma_r = 2*ma if ma>0 else -2*ma\n",
    "    mi_r = 2*mi if mi < 0 else -2*mi\n",
    "    df_num[i] = df_num[i].replace({np.inf:ma_r,-np.inf:mi_r})"
   ]
  },
  {
   "cell_type": "code",
   "execution_count": 10,
   "id": "909cc7db",
   "metadata": {
    "execution": {
     "iopub.execute_input": "2023-03-24T08:25:39.959647Z",
     "iopub.status.busy": "2023-03-24T08:25:39.959209Z",
     "iopub.status.idle": "2023-03-24T08:25:40.032645Z",
     "shell.execute_reply": "2023-03-24T08:25:40.031295Z"
    },
    "papermill": {
     "duration": 0.085532,
     "end_time": "2023-03-24T08:25:40.035851",
     "exception": false,
     "start_time": "2023-03-24T08:25:39.950319",
     "status": "completed"
    },
    "tags": []
   },
   "outputs": [],
   "source": [
    "if encoder_to_use == 'label':\n",
    "    for i in df_cat.columns:\n",
    "        le = LabelEncoder()\n",
    "        df_cat[i] = le.fit_transform(df_cat[i])\n",
    "elif encoder_to_use == 'target':\n",
    "    for i in df_cat.columns:\n",
    "        encodings = df_cat.groupby(i)['Made_Purchase'].mean()\n",
    "        df_cat[i] = df_cat[i].map(encodings)\n",
    "        "
   ]
  },
  {
   "cell_type": "code",
   "execution_count": 11,
   "id": "e06afa37",
   "metadata": {
    "execution": {
     "iopub.execute_input": "2023-03-24T08:25:40.058199Z",
     "iopub.status.busy": "2023-03-24T08:25:40.056045Z",
     "iopub.status.idle": "2023-03-24T08:25:40.067687Z",
     "shell.execute_reply": "2023-03-24T08:25:40.065703Z"
    },
    "papermill": {
     "duration": 0.027332,
     "end_time": "2023-03-24T08:25:40.070989",
     "exception": false,
     "start_time": "2023-03-24T08:25:40.043657",
     "status": "completed"
    },
    "tags": []
   },
   "outputs": [],
   "source": [
    "data = pd.concat([df_num,df_cat],axis=1)"
   ]
  },
  {
   "cell_type": "code",
   "execution_count": 12,
   "id": "efe8665c",
   "metadata": {
    "execution": {
     "iopub.execute_input": "2023-03-24T08:25:40.088685Z",
     "iopub.status.busy": "2023-03-24T08:25:40.086887Z",
     "iopub.status.idle": "2023-03-24T08:25:40.135142Z",
     "shell.execute_reply": "2023-03-24T08:25:40.133928Z"
    },
    "papermill": {
     "duration": 0.060186,
     "end_time": "2023-03-24T08:25:40.138009",
     "exception": false,
     "start_time": "2023-03-24T08:25:40.077823",
     "status": "completed"
    },
    "tags": []
   },
   "outputs": [],
   "source": [
    "for i in data.columns:\n",
    "    if i == 'Made_Purchase':\n",
    "        continue\n",
    "    data[i+\"_missing\"] = data[i].isna()\n",
    "    data[i] = data[i].fillna(data[i].mean())"
   ]
  },
  {
   "cell_type": "code",
   "execution_count": 13,
   "id": "d68e9128",
   "metadata": {
    "execution": {
     "iopub.execute_input": "2023-03-24T08:25:40.153055Z",
     "iopub.status.busy": "2023-03-24T08:25:40.152228Z",
     "iopub.status.idle": "2023-03-24T08:25:40.159308Z",
     "shell.execute_reply": "2023-03-24T08:25:40.158393Z"
    },
    "papermill": {
     "duration": 0.017508,
     "end_time": "2023-03-24T08:25:40.161976",
     "exception": false,
     "start_time": "2023-03-24T08:25:40.144468",
     "status": "completed"
    },
    "tags": []
   },
   "outputs": [],
   "source": [
    "data_train = data.iloc[:14731,:]\n",
    "data_test = data.iloc[14731:,:]"
   ]
  },
  {
   "cell_type": "code",
   "execution_count": 14,
   "id": "0fb57d02",
   "metadata": {
    "execution": {
     "iopub.execute_input": "2023-03-24T08:25:40.177403Z",
     "iopub.status.busy": "2023-03-24T08:25:40.176589Z",
     "iopub.status.idle": "2023-03-24T08:25:40.191422Z",
     "shell.execute_reply": "2023-03-24T08:25:40.190520Z"
    },
    "papermill": {
     "duration": 0.025577,
     "end_time": "2023-03-24T08:25:40.194094",
     "exception": false,
     "start_time": "2023-03-24T08:25:40.168517",
     "status": "completed"
    },
    "tags": []
   },
   "outputs": [],
   "source": [
    "data_train = data_train.sample(frac=1.)"
   ]
  },
  {
   "cell_type": "code",
   "execution_count": 15,
   "id": "ec4f2795",
   "metadata": {
    "execution": {
     "iopub.execute_input": "2023-03-24T08:25:40.208787Z",
     "iopub.status.busy": "2023-03-24T08:25:40.208030Z",
     "iopub.status.idle": "2023-03-24T08:25:40.213986Z",
     "shell.execute_reply": "2023-03-24T08:25:40.213096Z"
    },
    "papermill": {
     "duration": 0.015856,
     "end_time": "2023-03-24T08:25:40.216255",
     "exception": false,
     "start_time": "2023-03-24T08:25:40.200399",
     "status": "completed"
    },
    "tags": []
   },
   "outputs": [],
   "source": [
    "y_train = data_train.pop('Made_Purchase')\n",
    "y_train = y_train.astype(int)"
   ]
  },
  {
   "cell_type": "code",
   "execution_count": 16,
   "id": "fc389936",
   "metadata": {
    "execution": {
     "iopub.execute_input": "2023-03-24T08:25:40.230633Z",
     "iopub.status.busy": "2023-03-24T08:25:40.229998Z",
     "iopub.status.idle": "2023-03-24T08:25:40.243236Z",
     "shell.execute_reply": "2023-03-24T08:25:40.242391Z"
    },
    "papermill": {
     "duration": 0.023611,
     "end_time": "2023-03-24T08:25:40.246032",
     "exception": false,
     "start_time": "2023-03-24T08:25:40.222421",
     "status": "completed"
    },
    "tags": []
   },
   "outputs": [],
   "source": [
    "def accuracy(estimator, X, y):\n",
    "    preds = estimator.predict(X)\n",
    "    out = []\n",
    "    thresholds = [t/100 for t in range(38,50,1)]\n",
    "    for i in thresholds:\n",
    "        preds = y_preds > i\n",
    "        out.append((preds == y_true.astype(bool)).sum()/len(preds))\n",
    "    max_acc = max(out)\n",
    "    return 'max_acc', max(out), True\n",
    "\n",
    "def accuracy_for_grid(y_true, y_preds):\n",
    "    out = []\n",
    "    thresholds = [t/100 for t in range(38,50,1)]\n",
    "    for i in thresholds:\n",
    "        preds = y_preds > i\n",
    "        out.append((preds == y_true.astype(bool)).sum()/len(preds))\n",
    "    max_acc = max(out)\n",
    "    return max(out)\n",
    "def accuracy_for_thresholds(y_true, y_preds):\n",
    "    out = []\n",
    "    thresholds = [t/100 for t in range(38,50,1)]\n",
    "    for i in thresholds:\n",
    "        preds = y_preds > i\n",
    "        out.append(((preds == y_true.astype(bool)).sum()/len(preds),i))\n",
    "#     print(out)\n",
    "    t_out = sorted(out,key=lambda x: x[0], reverse=True)[0]\n",
    "    return t_out\n",
    "grid_scorer = make_scorer(accuracy_for_grid)"
   ]
  },
  {
   "cell_type": "markdown",
   "id": "439fa83d",
   "metadata": {
    "papermill": {
     "duration": 0.006221,
     "end_time": "2023-03-24T08:25:40.260236",
     "exception": false,
     "start_time": "2023-03-24T08:25:40.254015",
     "status": "completed"
    },
    "tags": []
   },
   "source": [
    "## Define CV function "
   ]
  },
  {
   "cell_type": "code",
   "execution_count": 17,
   "id": "41db3f51",
   "metadata": {
    "execution": {
     "iopub.execute_input": "2023-03-24T08:25:40.275930Z",
     "iopub.status.busy": "2023-03-24T08:25:40.274859Z",
     "iopub.status.idle": "2023-03-24T08:25:40.284739Z",
     "shell.execute_reply": "2023-03-24T08:25:40.283498Z"
    },
    "papermill": {
     "duration": 0.020959,
     "end_time": "2023-03-24T08:25:40.287417",
     "exception": false,
     "start_time": "2023-03-24T08:25:40.266458",
     "status": "completed"
    },
    "tags": []
   },
   "outputs": [],
   "source": [
    "def run_cv(est, X, y):\n",
    "    skf = StratifiedKFold(shuffle = True, n_splits = 5, random_state = 1729)\n",
    "    out = []\n",
    "    for tr_idx, val_idx in skf.split(X, y):\n",
    "        _est = clone(est)\n",
    "        X_tr = X[tr_idx,:]\n",
    "        y_tr = y[tr_idx]\n",
    "        X_val = X[val_idx,:]\n",
    "        y_val = y[val_idx]\n",
    "        _est.fit(X_tr,y_tr)\n",
    "        acc = accuracy_for_thresholds(y_val,_est.predict_proba(X_val)[:,1])\n",
    "        out.append((_est,acc))\n",
    "    return out"
   ]
  },
  {
   "cell_type": "code",
   "execution_count": 18,
   "id": "50b3ba3a",
   "metadata": {
    "execution": {
     "iopub.execute_input": "2023-03-24T08:25:40.304173Z",
     "iopub.status.busy": "2023-03-24T08:25:40.303003Z",
     "iopub.status.idle": "2023-03-24T08:25:40.319994Z",
     "shell.execute_reply": "2023-03-24T08:25:40.318334Z"
    },
    "papermill": {
     "duration": 0.028599,
     "end_time": "2023-03-24T08:25:40.322877",
     "exception": false,
     "start_time": "2023-03-24T08:25:40.294278",
     "status": "completed"
    },
    "tags": []
   },
   "outputs": [],
   "source": [
    "df = pd.read_csv('/kaggle/input/lgbm-044/lgbm_from_optuna_predictions0.44.csv')"
   ]
  },
  {
   "cell_type": "code",
   "execution_count": 19,
   "id": "398cfc5b",
   "metadata": {
    "execution": {
     "iopub.execute_input": "2023-03-24T08:25:40.337595Z",
     "iopub.status.busy": "2023-03-24T08:25:40.337138Z",
     "iopub.status.idle": "2023-03-24T08:25:40.344965Z",
     "shell.execute_reply": "2023-03-24T08:25:40.343513Z"
    },
    "papermill": {
     "duration": 0.017952,
     "end_time": "2023-03-24T08:25:40.347284",
     "exception": false,
     "start_time": "2023-03-24T08:25:40.329332",
     "status": "completed"
    },
    "tags": []
   },
   "outputs": [],
   "source": [
    "df = df.drop(columns=['Unnamed: 0'], axis=1)"
   ]
  },
  {
   "cell_type": "code",
   "execution_count": 20,
   "id": "95fbd341",
   "metadata": {
    "execution": {
     "iopub.execute_input": "2023-03-24T08:25:40.361953Z",
     "iopub.status.busy": "2023-03-24T08:25:40.361564Z",
     "iopub.status.idle": "2023-03-24T08:25:40.369305Z",
     "shell.execute_reply": "2023-03-24T08:25:40.367732Z"
    },
    "papermill": {
     "duration": 0.018049,
     "end_time": "2023-03-24T08:25:40.371851",
     "exception": false,
     "start_time": "2023-03-24T08:25:40.353802",
     "status": "completed"
    },
    "tags": []
   },
   "outputs": [],
   "source": [
    "df = df.rename(columns= {'preds': 'Made_Purchase'})"
   ]
  },
  {
   "cell_type": "code",
   "execution_count": 21,
   "id": "35e3b133",
   "metadata": {
    "execution": {
     "iopub.execute_input": "2023-03-24T08:25:40.388124Z",
     "iopub.status.busy": "2023-03-24T08:25:40.387559Z",
     "iopub.status.idle": "2023-03-24T08:25:40.412196Z",
     "shell.execute_reply": "2023-03-24T08:25:40.411037Z"
    },
    "papermill": {
     "duration": 0.036165,
     "end_time": "2023-03-24T08:25:40.414749",
     "exception": false,
     "start_time": "2023-03-24T08:25:40.378584",
     "status": "completed"
    },
    "tags": []
   },
   "outputs": [
    {
     "data": {
      "text/html": [
       "<div>\n",
       "<style scoped>\n",
       "    .dataframe tbody tr th:only-of-type {\n",
       "        vertical-align: middle;\n",
       "    }\n",
       "\n",
       "    .dataframe tbody tr th {\n",
       "        vertical-align: top;\n",
       "    }\n",
       "\n",
       "    .dataframe thead th {\n",
       "        text-align: right;\n",
       "    }\n",
       "</style>\n",
       "<table border=\"1\" class=\"dataframe\">\n",
       "  <thead>\n",
       "    <tr style=\"text-align: right;\">\n",
       "      <th></th>\n",
       "      <th>id</th>\n",
       "      <th>Made_Purchase</th>\n",
       "    </tr>\n",
       "  </thead>\n",
       "  <tbody>\n",
       "    <tr>\n",
       "      <th>0</th>\n",
       "      <td>0</td>\n",
       "      <td>False</td>\n",
       "    </tr>\n",
       "    <tr>\n",
       "      <th>1</th>\n",
       "      <td>1</td>\n",
       "      <td>False</td>\n",
       "    </tr>\n",
       "    <tr>\n",
       "      <th>2</th>\n",
       "      <td>2</td>\n",
       "      <td>False</td>\n",
       "    </tr>\n",
       "    <tr>\n",
       "      <th>3</th>\n",
       "      <td>3</td>\n",
       "      <td>False</td>\n",
       "    </tr>\n",
       "    <tr>\n",
       "      <th>4</th>\n",
       "      <td>4</td>\n",
       "      <td>False</td>\n",
       "    </tr>\n",
       "    <tr>\n",
       "      <th>...</th>\n",
       "      <td>...</td>\n",
       "      <td>...</td>\n",
       "    </tr>\n",
       "    <tr>\n",
       "      <th>6594</th>\n",
       "      <td>6594</td>\n",
       "      <td>False</td>\n",
       "    </tr>\n",
       "    <tr>\n",
       "      <th>6595</th>\n",
       "      <td>6595</td>\n",
       "      <td>False</td>\n",
       "    </tr>\n",
       "    <tr>\n",
       "      <th>6596</th>\n",
       "      <td>6596</td>\n",
       "      <td>False</td>\n",
       "    </tr>\n",
       "    <tr>\n",
       "      <th>6597</th>\n",
       "      <td>6597</td>\n",
       "      <td>False</td>\n",
       "    </tr>\n",
       "    <tr>\n",
       "      <th>6598</th>\n",
       "      <td>6598</td>\n",
       "      <td>False</td>\n",
       "    </tr>\n",
       "  </tbody>\n",
       "</table>\n",
       "<p>6599 rows × 2 columns</p>\n",
       "</div>"
      ],
      "text/plain": [
       "        id  Made_Purchase\n",
       "0        0          False\n",
       "1        1          False\n",
       "2        2          False\n",
       "3        3          False\n",
       "4        4          False\n",
       "...    ...            ...\n",
       "6594  6594          False\n",
       "6595  6595          False\n",
       "6596  6596          False\n",
       "6597  6597          False\n",
       "6598  6598          False\n",
       "\n",
       "[6599 rows x 2 columns]"
      ]
     },
     "execution_count": 21,
     "metadata": {},
     "output_type": "execute_result"
    }
   ],
   "source": [
    "df"
   ]
  },
  {
   "cell_type": "code",
   "execution_count": 22,
   "id": "44037152",
   "metadata": {
    "execution": {
     "iopub.execute_input": "2023-03-24T08:25:40.430819Z",
     "iopub.status.busy": "2023-03-24T08:25:40.430060Z",
     "iopub.status.idle": "2023-03-24T08:25:40.446068Z",
     "shell.execute_reply": "2023-03-24T08:25:40.445142Z"
    },
    "papermill": {
     "duration": 0.02723,
     "end_time": "2023-03-24T08:25:40.448922",
     "exception": false,
     "start_time": "2023-03-24T08:25:40.421692",
     "status": "completed"
    },
    "tags": []
   },
   "outputs": [],
   "source": [
    "df.to_csv('LGBM_from_Optuna_0.44.csv', index=False)"
   ]
  },
  {
   "cell_type": "code",
   "execution_count": null,
   "id": "adfeb9eb",
   "metadata": {
    "papermill": {
     "duration": 0.006558,
     "end_time": "2023-03-24T08:25:40.462218",
     "exception": false,
     "start_time": "2023-03-24T08:25:40.455660",
     "status": "completed"
    },
    "tags": []
   },
   "outputs": [],
   "source": []
  }
 ],
 "metadata": {
  "kernelspec": {
   "display_name": "Python 3",
   "language": "python",
   "name": "python3"
  },
  "language_info": {
   "codemirror_mode": {
    "name": "ipython",
    "version": 3
   },
   "file_extension": ".py",
   "mimetype": "text/x-python",
   "name": "python",
   "nbconvert_exporter": "python",
   "pygments_lexer": "ipython3",
   "version": "3.7.12"
  },
  "papermill": {
   "default_parameters": {},
   "duration": 16.665732,
   "end_time": "2023-03-24T08:25:41.593530",
   "environment_variables": {},
   "exception": null,
   "input_path": "__notebook__.ipynb",
   "output_path": "__notebook__.ipynb",
   "parameters": {},
   "start_time": "2023-03-24T08:25:24.927798",
   "version": "2.3.4"
  }
 },
 "nbformat": 4,
 "nbformat_minor": 5
}
