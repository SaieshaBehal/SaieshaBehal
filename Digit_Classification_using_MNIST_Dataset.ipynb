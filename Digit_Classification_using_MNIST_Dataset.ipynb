{
  "nbformat": 4,
  "nbformat_minor": 0,
  "metadata": {
    "colab": {
      "provenance": [],
      "collapsed_sections": [],
      "authorship_tag": "ABX9TyPz+E5EQpVXigLH098xtR+2",
      "include_colab_link": true
    },
    "kernelspec": {
      "name": "python3",
      "display_name": "Python 3"
    },
    "language_info": {
      "name": "python"
    }
  },
  "cells": [
    {
      "cell_type": "markdown",
      "metadata": {
        "id": "view-in-github",
        "colab_type": "text"
      },
      "source": [
        "<a href=\"https://colab.research.google.com/github/SaieshaBehal/SaieshaBehal/blob/main/Digit_Classification_using_MNIST_Dataset.ipynb\" target=\"_parent\"><img src=\"https://colab.research.google.com/assets/colab-badge.svg\" alt=\"Open In Colab\"/></a>"
      ]
    },
    {
      "cell_type": "markdown",
      "source": [
        "# **INTRODUCTION**\n",
        "It is a dataset of 60,000 small sqaure 28x28 pixel grayscale images of handwritten single digits between 0 and 9. The task is to classify a given image of a handwritten digit into one of the 10 classes representing integer values from 0 to 9, inclusively.\n",
        "\n",
        "First, we are going to use Perceptron Classifier to classify (recognize) given digit images. Since a single perceptron could only be used for binary classification, We consider only two classes in the first half. Eventually we extend it to multi-class setting.\n",
        "Suppose we want to recognize whether the given image is of digit zero or not(digit other than zero). Then the problem could be cast as a binary classification problem.\n",
        "\n",
        "Second, we are going to use Logistic Regression (Despite it's name) to classify (recognize) given digit image. Again, we first apply the model for binary classification and then extend it to multiclass classification."
      ],
      "metadata": {
        "id": "oeHk6aGqyIYC"
      }
    },
    {
      "cell_type": "markdown",
      "source": [
        "# **Perceptron Model**"
      ],
      "metadata": {
        "id": "oRjif6Q6c1gh"
      }
    },
    {
      "cell_type": "markdown",
      "source": [
        "1. **Binary Classifier**"
      ],
      "metadata": {
        "id": "VJ9Rov8wc9fc"
      }
    },
    {
      "cell_type": "code",
      "source": [
        "import numpy as np\n",
        "import matplotlib.pyplot as plt\n",
        "import seaborn as sns\n",
        "from sklearn.datasets import fetch_openml\n",
        "from sklearn.preprocessing import MinMaxScaler\n",
        "from sklearn.pipeline import Pipeline\n",
        "from sklearn.dummy import DummyClassifier\n",
        "from sklearn.linear_model import Perceptron\n",
        "from sklearn.metrics import hinge_loss\n",
        "from sklearn.metrics import ConfusionMatrixDisplay, confusion_matrix, precision_recall_curve\n",
        "from sklearn.metrics import precision_score, recall_score, classification_report\n",
        "from sklearn.metrics import make_scorer\n",
        "from sklearn.model_selection import cross_validate, cross_val_predict, GridSearchCV"
      ],
      "metadata": {
        "id": "KpBD3F2KhvaO"
      },
      "execution_count": null,
      "outputs": []
    },
    {
      "cell_type": "code",
      "source": [
        "# Data loading and Splitting\n",
        "X, y = fetch_openml('mnist_784', return_X_y=True)\n",
        "X = X.to_numpy()\n",
        "y = y.to_numpy()"
      ],
      "metadata": {
        "id": "pSPizIwxh2Wc"
      },
      "execution_count": null,
      "outputs": []
    },
    {
      "cell_type": "code",
      "source": [
        "target_names = np.unique(y)\n",
        "print('Number of Samples: {0}, type: {1}'.format(X.shape[0], X.dtype))\n",
        "print('Number of Features: {0}'.format(X.shape[1]))\n",
        "print('Minimum: {0}, Maximum: {1}'.format(np.min(X), np.max(X)))\n",
        "print('Number of Classes: {0}, type: {1}'.format(len(target_names), y.dtype))\n",
        "print('Labels: {0}'.format(target_names))"
      ],
      "metadata": {
        "colab": {
          "base_uri": "https://localhost:8080/"
        },
        "id": "l23bzs9eh6Ao",
        "outputId": "09e19e0b-ee64-482e-9f67-83a640dde50d"
      },
      "execution_count": null,
      "outputs": [
        {
          "output_type": "stream",
          "name": "stdout",
          "text": [
            "Number of Samples: 70000, type: float64\n",
            "Number of Features: 784\n",
            "Minimum: 0.0, Maximum: 255.0\n",
            "Number of Classes: 10, type: object\n",
            "Labels: ['0' '1' '2' '3' '4' '5' '6' '7' '8' '9']\n"
          ]
        }
      ]
    },
    {
      "cell_type": "code",
      "source": [
        "X = MinMaxScaler().fit_transform(X)\n",
        "print('Minimum: {0}, Maximum: {1}'.format(np.min(X), np.max(X)))"
      ],
      "metadata": {
        "colab": {
          "base_uri": "https://localhost:8080/"
        },
        "id": "zhQCvhsYiSXr",
        "outputId": "ae2a99c2-1c3e-42a0-bd74-9dd821dc468f"
      },
      "execution_count": null,
      "outputs": [
        {
          "output_type": "stream",
          "name": "stdout",
          "text": [
            "Minimum: 0.0, Maximum: 1.0\n"
          ]
        }
      ]
    },
    {
      "cell_type": "code",
      "source": [
        "num_images = 9\n",
        "factor = np.int(np.sqrt(num_images))\n",
        "fig, ax = plt.subplots(nrows=factor, ncols=factor, figsize=(8,6))\n",
        "idx_offset = 0\n",
        "for i in range(factor):\n",
        "    index = idx_offset + i*(factor)\n",
        "    for j in range(factor):\n",
        "        ax[i,j].imshow(X[index+j].reshape(28,28),cmap='gray')\n",
        "        ax[i,j].set_title('Label:{0}'.format(str(y[index+j])))\n",
        "        ax[i,j].set_axis_off()"
      ],
      "metadata": {
        "colab": {
          "base_uri": "https://localhost:8080/",
          "height": 444
        },
        "id": "Tw5bmXL7izj5",
        "outputId": "7cc90b65-fa80-427e-b5a7-f5991e807fe3"
      },
      "execution_count": null,
      "outputs": [
        {
          "output_type": "stream",
          "name": "stderr",
          "text": [
            "/usr/local/lib/python3.7/dist-packages/ipykernel_launcher.py:2: DeprecationWarning: `np.int` is a deprecated alias for the builtin `int`. To silence this warning, use `int` by itself. Doing this will not modify any behavior and is safe. When replacing `np.int`, you may wish to use e.g. `np.int64` or `np.int32` to specify the precision. If you wish to review your current use, check the release note link for additional information.\n",
            "Deprecated in NumPy 1.20; for more details and guidance: https://numpy.org/devdocs/release/1.20.0-notes.html#deprecations\n",
            "  \n"
          ]
        },
        {
          "output_type": "display_data",
          "data": {
            "text/plain": [
              "<Figure size 576x432 with 9 Axes>"
            ],
            "image/png": "[encoded data removed]"
          },
          "metadata": {
            "needs_background": "light"
          }
        }
      ]
    },
    {
      "cell_type": "markdown",
      "source": [
        "Since the samples in the dataset are already randomly shuffled, we need not shuffle it again. Therefore, using train_test_split() may be skipped."
      ],
      "metadata": {
        "id": "D_j0NHbydMfc"
      }
    },
    {
      "cell_type": "code",
      "source": [
        "x_train, x_test, y_train, y_test = X[:60000], X[60000:], y[:60000], y[60000:]"
      ],
      "metadata": {
        "id": "DwhM4hbFjMdV"
      },
      "execution_count": null,
      "outputs": []
    },
    {
      "cell_type": "markdown",
      "source": [
        "Before proceeding further, we will check whether the dataset is balanced or imbalanced"
      ],
      "metadata": {
        "id": "tqVAJsDGdV6X"
      }
    },
    {
      "cell_type": "code",
      "source": [
        "import seaborn as sns\n",
        "plt.figure(figsize=(10,4))\n",
        "sns.histplot(data=np.int8(y_train),binwidth=0.45, bins=11)\n",
        "plt.xticks(ticks=[0,1,2,3,4,5,6,7,8,9],labels=[0,1,2,3,4,5,6,7,8,9])\n",
        "plt.xlabel('Class')\n",
        "plt.title('Distribution of Samples')\n",
        "plt.show()"
      ],
      "metadata": {
        "colab": {
          "base_uri": "https://localhost:8080/",
          "height": 295
        },
        "id": "W0PHV6myQIVe",
        "outputId": "68c70e38-9031-4d9b-f527-f38b9832b1fc"
      },
      "execution_count": null,
      "outputs": [
        {
          "output_type": "display_data",
          "data": {
            "text/plain": [
              "<Figure size 720x288 with 1 Axes>"
            ],
            "image/png": "[encoded data removed]"
          },
          "metadata": {
            "needs_background": "light"
          }
        }
      ]
    },
    {
      "cell_type": "markdown",
      "source": [
        "Modifying labels from 10 classes to 2. Therefore, the label 0 will be changed to 1 and all other (1 to 9) will be changed to -1."
      ],
      "metadata": {
        "id": "0ghEPzlsdwao"
      }
    },
    {
      "cell_type": "code",
      "source": [
        "# initialize new variable names with all -1\n",
        "y_train_0 = -1*np.ones((len(y_train)))\n",
        "y_test_0 = -1*np.ones((len(y_test)))\n",
        "\n",
        "# finding indices of digit 0 image\n",
        "indx_0 = np.where(y_train=='0')\n",
        "\n",
        "# using the indices to modify y_train_0 and y_test_0\n",
        "y_train_0[indx_0]=1\n",
        "indx_0 = np.where(y_test=='0')\n",
        "y_test_0[indx_0]=1"
      ],
      "metadata": {
        "id": "hmz0jTgujWrc"
      },
      "execution_count": null,
      "outputs": []
    },
    {
      "cell_type": "markdown",
      "source": [
        "**Baseline Model** : the model always outputs the class which has the highest number of samples"
      ],
      "metadata": {
        "id": "gUX5c8g1d1fy"
      }
    },
    {
      "cell_type": "code",
      "source": [
        "num_pos = len(np.where(y_train_0==1)[0])\n",
        "num_neg = len(np.where(y_train_0==-1)[0])\n",
        "print('Number of positive samples:', num_pos)\n",
        "print('Number of negative samples:', num_neg)"
      ],
      "metadata": {
        "colab": {
          "base_uri": "https://localhost:8080/"
        },
        "id": "eVjwSgSTjnOn",
        "outputId": "88b2083e-9f31-4e9d-d878-39f19c730c7a"
      },
      "execution_count": null,
      "outputs": [
        {
          "output_type": "stream",
          "name": "stdout",
          "text": [
            "Number of positive samples: 5923\n",
            "Number of negative samples: 54077\n"
          ]
        }
      ]
    },
    {
      "cell_type": "code",
      "source": [
        "base_clf = DummyClassifier(strategy='most_frequent')\n",
        "base_clf.fit(x_train, y_train_0)\n",
        "print('Training accuracy:{0}'.format(base_clf.score(x_train, y_train_0)))\n",
        "print('Testing accuracy: {0:}'.format(base_clf.score(x_test, y_test_0)))"
      ],
      "metadata": {
        "colab": {
          "base_uri": "https://localhost:8080/"
        },
        "id": "miPMsCfTjqH7",
        "outputId": "20acf1f7-2031-43ac-b39a-8dc4ad0a770a"
      },
      "execution_count": null,
      "outputs": [
        {
          "output_type": "stream",
          "name": "stdout",
          "text": [
            "Training accuracy:0.9012833333333333\n",
            "Testing accuracy: 0.902\n"
          ]
        }
      ]
    },
    {
      "cell_type": "markdown",
      "source": [
        "**Perceptron** **Model**"
      ],
      "metadata": {
        "id": "yRwOIoHQeoII"
      }
    },
    {
      "cell_type": "code",
      "source": [
        "bin_clf = Perceptron(max_iter=100)\n",
        "bin_clf.fit(x_train,y_train_0)\n",
        "print('Dimension of Weights w: {0}'.format(bin_clf.coef_.shape))\n",
        "print('Bias: {0}'.format(bin_clf.intercept_))\n",
        "print('The Loss Function:{0}'.format(bin_clf.loss_function_))"
      ],
      "metadata": {
        "colab": {
          "base_uri": "https://localhost:8080/"
        },
        "id": "n1yimLbOju-U",
        "outputId": "e1c9aad8-1791-454b-fdb8-719a974b0df2"
      },
      "execution_count": null,
      "outputs": [
        {
          "output_type": "stream",
          "name": "stdout",
          "text": [
            "Dimension of Weights w: (1, 784)\n",
            "Bias: [-96.]\n",
            "The Loss Function:<sklearn.linear_model._sgd_fast.Hinge object at 0x7f872ed8b0d0>\n"
          ]
        }
      ]
    },
    {
      "cell_type": "code",
      "source": [
        "y_hat_train_0 = bin_clf.predict(x_train)\n",
        "print('Training Accuracy:', bin_clf.score(x_train, y_train_0))\n",
        "print('Testing Accuracy:', bin_clf.score(x_test, y_test_0))"
      ],
      "metadata": {
        "colab": {
          "base_uri": "https://localhost:8080/"
        },
        "id": "qh3WALscjzPa",
        "outputId": "32c26bda-31dd-4d96-d2ec-43027505cd1a"
      },
      "execution_count": null,
      "outputs": [
        {
          "output_type": "stream",
          "name": "stdout",
          "text": [
            "Training Accuracy: 0.9866666666666667\n",
            "Testing Accuracy: 0.9857\n"
          ]
        }
      ]
    },
    {
      "cell_type": "markdown",
      "source": [
        "Displaying predictions: taking a few images from the test set at random and displaying it with the corresponding prediction"
      ],
      "metadata": {
        "id": "yK7A7GKBe5au"
      }
    },
    {
      "cell_type": "code",
      "source": [
        "y_hat_test_0 = bin_clf.predict(x_test)\n",
        "num_images = 9\n",
        "factor = np.int(np.sqrt(num_images))\n",
        "fig, ax = plt.subplots(nrows=factor, ncols=factor, figsize=(8,6))\n",
        "idx_offset = 0\n",
        "for i in range(factor):\n",
        "    index = idx_offset + i*(factor)\n",
        "    for j in range(factor):\n",
        "        ax[i,j].imshow(x_test[index+j].reshape(28,28),cmap='gray')\n",
        "        ax[i,j].set_title('Label:{0}'.format(str(y_hat_test_0[index+j])))\n",
        "        ax[i,j].set_axis_off()"
      ],
      "metadata": {
        "colab": {
          "base_uri": "https://localhost:8080/",
          "height": 444
        },
        "id": "N3XrBUXJj3Zu",
        "outputId": "7380ef70-4121-4d4b-c82f-7f9598b93d8e"
      },
      "execution_count": null,
      "outputs": [
        {
          "output_type": "stream",
          "name": "stderr",
          "text": [
            "/usr/local/lib/python3.7/dist-packages/ipykernel_launcher.py:3: DeprecationWarning: `np.int` is a deprecated alias for the builtin `int`. To silence this warning, use `int` by itself. Doing this will not modify any behavior and is safe. When replacing `np.int`, you may wish to use e.g. `np.int64` or `np.int32` to specify the precision. If you wish to review your current use, check the release note link for additional information.\n",
            "Deprecated in NumPy 1.20; for more details and guidance: https://numpy.org/devdocs/release/1.20.0-notes.html#deprecations\n",
            "  This is separate from the ipykernel package so we can avoid doing imports until\n"
          ]
        },
        {
          "output_type": "display_data",
          "data": {
            "text/plain": [
              "<Figure size 576x432 with 9 Axes>"
            ],
            "image/png": "[encoded data removed]"
          },
          "metadata": {
            "needs_background": "light"
          }
        }
      ]
    },
    {
      "cell_type": "code",
      "source": [
        "# checking how many 0's have been correctly predicted\n",
        "indx_0 = np.where(y_test_0==1)\n",
        "ZeroImgs = x_test[indx_0]\n",
        "ZeroLabls = y_hat_test_0[indx_0]\n",
        "num_misclassified = np.count_nonzero(ZeroLabls==-1)\n",
        "num_correctpred = len(ZeroLabls)-num_misclassified\n",
        "accuracy = num_correctpred/len(ZeroLabls)\n",
        "print(accuracy)"
      ],
      "metadata": {
        "colab": {
          "base_uri": "https://localhost:8080/"
        },
        "id": "YFkDssUnj6oo",
        "outputId": "163dc0d5-bd97-4438-9438-ac23bce4ff9a"
      },
      "execution_count": null,
      "outputs": [
        {
          "output_type": "stream",
          "name": "stdout",
          "text": [
            "0.8683673469387755\n"
          ]
        }
      ]
    },
    {
      "cell_type": "code",
      "source": [
        "# checking how many non-0's have been correctly predicted\n",
        "idx_not_0 = np.where(y_test_0 == -1)[0]\n",
        "NonZeroImgs = x_test[idx_not_0] \n",
        "NonZeroLabels = y_hat_test_0[idx_not_0]\n",
        "num_misclassified = np.count_nonzero(NonZeroLabels == 1)\n",
        "num_correctpred = len(NonZeroLabels) - num_misclassified\n",
        "accuracy = num_correctpred / len(NonZeroLabels)\n",
        "print(accuracy)"
      ],
      "metadata": {
        "colab": {
          "base_uri": "https://localhost:8080/"
        },
        "id": "8OnT4zxwj-xV",
        "outputId": "4ec6c3a9-832e-4af4-c093-945928f232f4"
      },
      "execution_count": null,
      "outputs": [
        {
          "output_type": "stream",
          "name": "stdout",
          "text": [
            "0.9984478935698448\n"
          ]
        }
      ]
    },
    {
      "cell_type": "markdown",
      "source": [
        "Better Evaluation Metric: using 'accuracy' alone to measure the performance of the model is not suitable specially for imbalanced datasets"
      ],
      "metadata": {
        "id": "-xGRFd5XfDPQ"
      }
    },
    {
      "cell_type": "code",
      "source": [
        "y_hat_train_0 = bin_clf.predict(x_train)\n",
        "cm_display = ConfusionMatrixDisplay.from_predictions(y_train_0, y_hat_train_0)\n",
        "plt.show()"
      ],
      "metadata": {
        "colab": {
          "base_uri": "https://localhost:8080/",
          "height": 279
        },
        "id": "wL8320X9kDaF",
        "outputId": "4575571d-034b-4d4a-b08a-c1b73384dad2"
      },
      "execution_count": null,
      "outputs": [
        {
          "output_type": "display_data",
          "data": {
            "text/plain": [
              "<Figure size 432x288 with 2 Axes>"
            ],
            "image/png": "[encoded data removed]"
          },
          "metadata": {
            "needs_background": "light"
          }
        }
      ]
    },
    {
      "cell_type": "code",
      "source": [
        "cf_matrix = cm_display.confusion_matrix\n",
        "tn=cf_matrix[0,0]\n",
        "fn=cf_matrix[1,0]\n",
        "fp=cf_matrix[0,1]\n",
        "tp=cf_matrix[1,1]\n",
        "precision = tp/(tp+fp)\n",
        "recall = tp/(tp+fn)\n",
        "accuracy = (tp+tn)/(tp+tn+fp+fn)\n",
        "print('Precision:', precision)\n",
        "print('Recall:', recall)\n",
        "print('Accuracy:', accuracy)"
      ],
      "metadata": {
        "colab": {
          "base_uri": "https://localhost:8080/"
        },
        "id": "uAxJ6fKakGX_",
        "outputId": "f355c96f-f3d1-42a6-be28-3167707c4fbf"
      },
      "execution_count": null,
      "outputs": [
        {
          "output_type": "stream",
          "name": "stdout",
          "text": [
            "Precision: 0.9913677345098791\n",
            "Recall: 0.8725308120884687\n",
            "Accuracy: 0.9866666666666667\n"
          ]
        }
      ]
    },
    {
      "cell_type": "markdown",
      "source": [
        "Cross Validation : to know whether the model under consideration with the set hyperparameters is a good one for our given problem or not"
      ],
      "metadata": {
        "id": "MvGQB1YNfN9h"
      }
    },
    {
      "cell_type": "code",
      "source": [
        "bin_clf = Perceptron(max_iter=100)\n",
        "scores = cross_validate(bin_clf, x_train, y_train_0, cv=5, scoring=['precision', 'recall', 'f1'], return_estimator=True)\n",
        "print(scores)"
      ],
      "metadata": {
        "colab": {
          "base_uri": "https://localhost:8080/"
        },
        "id": "qNX71Kc2kKKF",
        "outputId": "23f4ccc5-e838-4877-f78b-34bb9359c6ad"
      },
      "execution_count": null,
      "outputs": [
        {
          "output_type": "stream",
          "name": "stdout",
          "text": [
            "{'fit_time': array([0.98910737, 0.86662793, 1.48695064, 2.51493049, 2.25721693]), 'score_time': array([0.03980017, 0.04497719, 0.08842683, 0.07470798, 0.04255104]), 'estimator': [Perceptron(max_iter=100), Perceptron(max_iter=100), Perceptron(max_iter=100), Perceptron(max_iter=100), Perceptron(max_iter=100)], 'test_precision': array([0.96969697, 0.99271592, 0.98473282, 0.92320129, 0.88262195]), 'test_recall': array([0.91891892, 0.80574324, 0.87088608, 0.96371308, 0.97721519]), 'test_f1': array([0.94362533, 0.88951049, 0.92431706, 0.9430223 , 0.92751302])}\n"
          ]
        }
      ]
    },
    {
      "cell_type": "code",
      "source": [
        "print('f1, avg:{0:.2f}, std:{1:.3f}'.format(scores['test_f1'].mean(), scores['test_f1'].std()))\n",
        "print('precision, avg:{0:.2f}, std:{1:.3f}'.format(scores['test_precision'].mean(), scores['test_precision'].std()))\n",
        "print('recall, avg:{0:.2f}, std:{1:.3f}'.format(scores['test_recall'].mean(), scores['test_recall'].std()))"
      ],
      "metadata": {
        "colab": {
          "base_uri": "https://localhost:8080/"
        },
        "id": "N2xFkj6NqWBF",
        "outputId": "c2094e70-799a-4426-8590-6fc80ecf3198"
      },
      "execution_count": null,
      "outputs": [
        {
          "output_type": "stream",
          "name": "stdout",
          "text": [
            "f1, avg:0.93, std:0.020\n",
            "precision, avg:0.95, std:0.042\n",
            "recall, avg:0.91, std:0.063\n"
          ]
        }
      ]
    },
    {
      "cell_type": "code",
      "source": [
        "# Picking the first estimator returned by the cross-validate function to check how it performs on the testset \n",
        "bin_clf = scores['estimator'][0]\n",
        "y_hat_test_0 = bin_clf.predict(x_test)\n",
        "cm_display = ConfusionMatrixDisplay.from_predictions(y_test_0, y_hat_test_0)"
      ],
      "metadata": {
        "colab": {
          "base_uri": "https://localhost:8080/",
          "height": 279
        },
        "id": "wJwYDSZwrRFd",
        "outputId": "c0ac6dd0-7ecc-4f4f-9db5-80223b632f45"
      },
      "execution_count": null,
      "outputs": [
        {
          "output_type": "display_data",
          "data": {
            "text/plain": [
              "<Figure size 432x288 with 2 Axes>"
            ],
            "image/png": "[encoded data removed]"
          },
          "metadata": {
            "needs_background": "light"
          }
        }
      ]
    },
    {
      "cell_type": "code",
      "source": [
        "print('Precision %.2f'%precision_score(y_test_0, y_hat_test_0))\n",
        "print('Recall %.2f'%recall_score(y_test_0, y_hat_test_0))"
      ],
      "metadata": {
        "colab": {
          "base_uri": "https://localhost:8080/"
        },
        "id": "nNDsn-N2sMi2",
        "outputId": "90dc22ed-a1d0-4fca-c6f4-3354cbbcb4b8"
      },
      "execution_count": null,
      "outputs": [
        {
          "output_type": "stream",
          "name": "stdout",
          "text": [
            "Precision 0.96\n",
            "Recall 0.93\n"
          ]
        }
      ]
    },
    {
      "cell_type": "code",
      "source": [
        "#Often times we need to make a trade-off between precision and recall scores of a model\n",
        "bin_clf = Perceptron(random_state=1729)\n",
        "bin_clf.fit(x_train,y_train_0)\n",
        "y_scores = bin_clf.decision_function(x_train)\n",
        "\n",
        "sns.histplot(np.sort(y_scores))\n",
        "plt.show()"
      ],
      "metadata": {
        "id": "uhuOuVD2sp6N",
        "colab": {
          "base_uri": "https://localhost:8080/",
          "height": 265
        },
        "outputId": "91c32afb-2fb9-4c1c-9f87-066fddd62195"
      },
      "execution_count": null,
      "outputs": [
        {
          "output_type": "display_data",
          "data": {
            "text/plain": [
              "<Figure size 432x288 with 1 Axes>"
            ],
            "image/png": "[encoded data removed]"
          },
          "metadata": {
            "needs_background": "light"
          }
        }
      ]
    },
    {
      "cell_type": "markdown",
      "source": [
        "The reason why there are so many negative values than the positive values is because of the class-imbalance in the dataset \n",
        "\n",
        "Suppose threshold takes the value of -600, then all the samples having score greater than -600 is set to 1(Positive label) and less than it is set to -1(neg label). Therefore, the number of False Positives will be increased. This will in turn reduce the precision score to a greater extent.\n",
        "\n",
        "On the otherhand, if the threshold takes the value of say 400, Then, the number of False negatives will be increase and hence the recall will reduce to a greater extent."
      ],
      "metadata": {
        "id": "VDJ2dKHLfWMx"
      }
    },
    {
      "cell_type": "code",
      "source": [
        "precisions, recalls, thresholds = precision_recall_curve(y_train_0,y_scores,pos_label=1)\n",
        "plt.figure(figsize=(10,6))\n",
        "plt.plot(precisions[:-1],recalls[:-1],\"b--\")\n",
        "plt.xlabel('Precision')\n",
        "plt.ylabel('Recall')\n",
        "plt.grid(True)\n",
        "plt.show()"
      ],
      "metadata": {
        "colab": {
          "base_uri": "https://localhost:8080/",
          "height": 388
        },
        "id": "7gGm1IwibRLu",
        "outputId": "6721ef40-4a21-4dc3-e282-dad602653da4"
      },
      "execution_count": null,
      "outputs": [
        {
          "output_type": "display_data",
          "data": {
            "text/plain": [
              "<Figure size 720x432 with 1 Axes>"
            ],
            "image/png": "[encoded data removed]"
          },
          "metadata": {
            "needs_background": "light"
          }
        }
      ]
    },
    {
      "cell_type": "code",
      "source": [
        "plt.figure(figsize=(10,4))\n",
        "plt.plot(thresholds,precisions[:-1],\"b--\",label=\"Precision\")\n",
        "plt.plot(thresholds,recalls[:-1],\"g-\",label=\"Recall\")\n",
        "plt.xlabel('Threshold')\n",
        "plt.grid(True)\n",
        "plt.legend(loc='upper right')\n",
        "plt.show()"
      ],
      "metadata": {
        "colab": {
          "base_uri": "https://localhost:8080/",
          "height": 279
        },
        "id": "WYJ-Ca9-bW3l",
        "outputId": "e34b6224-af7c-43f3-c224-c4f2f062d38a"
      },
      "execution_count": null,
      "outputs": [
        {
          "output_type": "display_data",
          "data": {
            "text/plain": [
              "<Figure size 720x288 with 1 Axes>"
            ],
            "image/png": "[encoded data removed]"
          },
          "metadata": {
            "needs_background": "light"
          }
        }
      ]
    },
    {
      "cell_type": "code",
      "source": [
        "#get the index of threshold around zero \n",
        "idx_th = np.where(np.logical_and(thresholds >0, thresholds <1))\n",
        "print(\"precision for zero threshold:\",precisions[idx_th[0][0]])"
      ],
      "metadata": {
        "colab": {
          "base_uri": "https://localhost:8080/"
        },
        "id": "5XmD-xdjbar3",
        "outputId": "75b9cbb9-4c9b-41df-d79b-633813d23f66"
      },
      "execution_count": null,
      "outputs": [
        {
          "output_type": "stream",
          "name": "stdout",
          "text": [
            "precision for zero threshold: 0.9783072546230441\n"
          ]
        }
      ]
    },
    {
      "cell_type": "markdown",
      "source": [
        "2. **Multiple Classifier (OneVsAll)**\n",
        "\n",
        "We know that the perceptron is a binary classifier. However,MNIST dataset contains 10 classes. Then we can extend the idea to handle multi-class problem by combining multiple binary classifiers and devise a suitable scoring metric.\n",
        "\n",
        "Sklearn does this by counting a number of unique elements (10 in this case) in the label vector y_train and converting labels using Labelbinarizer to fit each binary classifier "
      ],
      "metadata": {
        "id": "7r5QMZYgfw4B"
      }
    },
    {
      "cell_type": "code",
      "source": [
        "from sklearn.linear_model import Perceptron\n",
        "from sklearn.preprocessing import LabelBinarizer"
      ],
      "metadata": {
        "id": "qd-hIVyDcuB-"
      },
      "execution_count": null,
      "outputs": []
    },
    {
      "cell_type": "code",
      "source": [
        "clf = Perceptron(random_state=1729)\n",
        "y_train_ovr = LabelBinarizer().fit_transform(y_train)\n",
        "for i in range(10):\n",
        "  print(\"{0}:{1}\".format(y_train[i],y_train_ovr[i]))\n",
        "\n",
        "#Shape of the y_train_ovr will be of size (60000 x 10)\n",
        "#The first column will be (binary) label vector for 0-detector and the next one for 1-Detector and so on."
      ],
      "metadata": {
        "colab": {
          "base_uri": "https://localhost:8080/"
        },
        "id": "OjuyyREtc5tz",
        "outputId": "1b637ca8-ee1c-4a63-8cfd-a80755fd5a4b"
      },
      "execution_count": null,
      "outputs": [
        {
          "output_type": "stream",
          "name": "stdout",
          "text": [
            "5:[0 0 0 0 0 1 0 0 0 0]\n",
            "0:[1 0 0 0 0 0 0 0 0 0]\n",
            "4:[0 0 0 0 1 0 0 0 0 0]\n",
            "1:[0 1 0 0 0 0 0 0 0 0]\n",
            "9:[0 0 0 0 0 0 0 0 0 1]\n",
            "2:[0 0 1 0 0 0 0 0 0 0]\n",
            "1:[0 1 0 0 0 0 0 0 0 0]\n",
            "3:[0 0 0 1 0 0 0 0 0 0]\n",
            "1:[0 1 0 0 0 0 0 0 0 0]\n",
            "4:[0 0 0 0 1 0 0 0 0 0]\n"
          ]
        }
      ]
    },
    {
      "cell_type": "code",
      "source": [
        "clf.fit(x_train,y_train)"
      ],
      "metadata": {
        "colab": {
          "base_uri": "https://localhost:8080/",
          "height": 164
        },
        "id": "CF5Pb0YSdHK-",
        "outputId": "5d10c4ab-f616-4669-fc12-b7522f2a1aa7"
      },
      "execution_count": null,
      "outputs": [
        {
          "output_type": "error",
          "ename": "NameError",
          "evalue": "ignored",
          "traceback": [
            "\u001b[0;31m---------------------------------------------------------------------------\u001b[0m",
            "\u001b[0;31mNameError\u001b[0m                                 Traceback (most recent call last)",
            "\u001b[0;32m<ipython-input-19-23a7f0d6d621>\u001b[0m in \u001b[0;36m<module>\u001b[0;34m\u001b[0m\n\u001b[0;32m----> 1\u001b[0;31m \u001b[0mclf\u001b[0m\u001b[0;34m.\u001b[0m\u001b[0mfit\u001b[0m\u001b[0;34m(\u001b[0m\u001b[0mx_train\u001b[0m\u001b[0;34m,\u001b[0m\u001b[0my_train\u001b[0m\u001b[0;34m)\u001b[0m\u001b[0;34m\u001b[0m\u001b[0;34m\u001b[0m\u001b[0m\n\u001b[0m",
            "\u001b[0;31mNameError\u001b[0m: name 'clf' is not defined"
          ]
        }
      ]
    },
    {
      "cell_type": "markdown",
      "source": [
        "What had actually happened internally was that the API automatically created 10 binary classifiers, converted labels to binary sparse matrix and trained them with the binarized labels.\n",
        "\n",
        "During the inference time, the input will be passed through all these 10 classifiers and the highest score among the output from the classifiers will be considered as the predicted class."
      ],
      "metadata": {
        "id": "xSIZtB-agG7g"
      }
    },
    {
      "cell_type": "code",
      "source": [
        "print ('Shape of Weight matrix: {0} and bias vector:{1}'.format(clf.coef_.shape, clf.intercept_.shape))"
      ],
      "metadata": {
        "colab": {
          "base_uri": "https://localhost:8080/"
        },
        "id": "VBvYZBOweGVz",
        "outputId": "f7a44368-de37-4ca0-ee99-484334f335a1"
      },
      "execution_count": null,
      "outputs": [
        {
          "output_type": "stream",
          "name": "stdout",
          "text": [
            "Shape of Weight matrix: (10, 784) and bias vector:(10,)\n"
          ]
        }
      ]
    },
    {
      "cell_type": "markdown",
      "source": [
        "So it is a matrix of size (10 x 784), where each row represents the weights for a single binary classifier.\n",
        "\n",
        "Important difference to note is that there is no signum function associated with the perceptron.\n",
        "\n",
        "The class of a perceptron that outputs the maximum score for the input sample is considered as the predicted class."
      ],
      "metadata": {
        "id": "unFQXSdvgTQV"
      }
    },
    {
      "cell_type": "code",
      "source": [
        "for i in range(10):\n",
        "  scores = clf.decision_function(x_train[i].reshape(1,-1))\n",
        "  #print(\"The predicted class:\", np.argmax(scores))\n",
        "  print(\"Predicted output:\")\n",
        "  print(clf.predict(x_train[i].reshape(1,-1)))"
      ],
      "metadata": {
        "colab": {
          "base_uri": "https://localhost:8080/"
        },
        "id": "k1ziUR3ieOs8",
        "outputId": "0e9e1202-0ff3-4812-9ace-2d81ab8131f3"
      },
      "execution_count": null,
      "outputs": [
        {
          "output_type": "stream",
          "name": "stdout",
          "text": [
            "Predicted output:\n",
            "['5']\n",
            "Predicted output:\n",
            "['0']\n",
            "Predicted output:\n",
            "['4']\n",
            "Predicted output:\n",
            "['1']\n",
            "Predicted output:\n",
            "['9']\n",
            "Predicted output:\n",
            "['2']\n",
            "Predicted output:\n",
            "['1']\n",
            "Predicted output:\n",
            "['3']\n",
            "Predicted output:\n",
            "['1']\n",
            "Predicted output:\n",
            "['4']\n"
          ]
        }
      ]
    },
    {
      "cell_type": "code",
      "source": [
        "# Get the prediction for all training samples\n",
        "y_hat = clf.predict(x_train)\n",
        "print(classification_report(y_train,y_hat))"
      ],
      "metadata": {
        "colab": {
          "base_uri": "https://localhost:8080/"
        },
        "id": "3cexAGiyerFl",
        "outputId": "8cca8cba-520e-4cf7-a57a-cdec8e0bdd1a"
      },
      "execution_count": null,
      "outputs": [
        {
          "output_type": "stream",
          "name": "stdout",
          "text": [
            "              precision    recall  f1-score   support\n",
            "\n",
            "           0       0.98      0.95      0.97      5923\n",
            "           1       0.94      0.98      0.96      6742\n",
            "           2       0.89      0.90      0.90      5958\n",
            "           3       0.86      0.87      0.87      6131\n",
            "           4       0.89      0.94      0.91      5842\n",
            "           5       0.81      0.88      0.85      5421\n",
            "           6       0.92      0.97      0.94      5918\n",
            "           7       0.91      0.94      0.92      6265\n",
            "           8       0.92      0.77      0.84      5851\n",
            "           9       0.92      0.82      0.87      5949\n",
            "\n",
            "    accuracy                           0.90     60000\n",
            "   macro avg       0.90      0.90      0.90     60000\n",
            "weighted avg       0.91      0.90      0.90     60000\n",
            "\n"
          ]
        }
      ]
    },
    {
      "cell_type": "code",
      "source": [
        "cm_display = ConfusionMatrixDisplay.from_predictions(y_train,y_hat, values_format='.5g')"
      ],
      "metadata": {
        "colab": {
          "base_uri": "https://localhost:8080/",
          "height": 279
        },
        "id": "QcMfA7ihe40m",
        "outputId": "a0c0f45f-e45b-4a78-c077-02f0c024a92c"
      },
      "execution_count": null,
      "outputs": [
        {
          "output_type": "display_data",
          "data": {
            "text/plain": [
              "<Figure size 432x288 with 2 Axes>"
            ],
            "image/png": "[encoded data removed]"
          },
          "metadata": {
            "needs_background": "light"
          }
        }
      ]
    },
    {
      "cell_type": "code",
      "source": [
        "#Let's create a pipeline to keep the code compact.\n",
        "#The one potential preprocessing technique we may use is to scale the features within the range(0,1)\n",
        "#Create a list with named tuples\n",
        "estimators = [('std_scaler',MinMaxScaler()),('bin_clf',Perceptron())]\n",
        "pipe = Pipeline(estimators)"
      ],
      "metadata": {
        "id": "obivztT_fADH"
      },
      "execution_count": null,
      "outputs": []
    },
    {
      "cell_type": "code",
      "source": [
        "pipe.fit(x_train,y_train_0)\n",
        "y_hat_train_0=pipe.predict(x_train)\n",
        "cm_display = ConfusionMatrixDisplay.from_predictions(y_train_0,y_hat_train_0,values_format='.5g')\n",
        "plt.show()"
      ],
      "metadata": {
        "colab": {
          "base_uri": "https://localhost:8080/",
          "height": 279
        },
        "id": "E2a5DCn9hOY6",
        "outputId": "6c80a21b-f23b-4a94-f085-bf9b99fd7135"
      },
      "execution_count": null,
      "outputs": [
        {
          "output_type": "display_data",
          "data": {
            "text/plain": [
              "<Figure size 432x288 with 2 Axes>"
            ],
            "image/png": "[encoded data removed]"
          },
          "metadata": {
            "needs_background": "light"
          }
        }
      ]
    },
    {
      "cell_type": "code",
      "source": [
        "iterations =100 \n",
        "bin_clf1 = Perceptron(max_iter=100,random_state=2094)\n",
        "Loss_clf1=[]\n",
        "for i in range(iterations):\n",
        "  bin_clf1.partial_fit(x_train,y_train_0,classes=np.array([1,-1])) \n",
        "  y_hat_0 = bin_clf1.decision_function(x_train)\n",
        "  Loss_clf1.append(hinge_loss(y_train_0,y_hat_0))"
      ],
      "metadata": {
        "id": "AnW5fnHvi1x4"
      },
      "execution_count": null,
      "outputs": []
    },
    {
      "cell_type": "code",
      "source": [
        "plt.figure()\n",
        "plt.plot(np.arange(iterations),Loss_clf1)\n",
        "plt.grid(True)\n",
        "plt.xlabel('Iteration')\n",
        "plt.ylabel('Training Loss')\n",
        "plt.show()"
      ],
      "metadata": {
        "colab": {
          "base_uri": "https://localhost:8080/",
          "height": 279
        },
        "id": "10y8iEkTjKil",
        "outputId": "103494c4-7efb-4e83-b7cc-5d902a525da5"
      },
      "execution_count": null,
      "outputs": [
        {
          "output_type": "display_data",
          "data": {
            "text/plain": [
              "<Figure size 432x288 with 1 Axes>"
            ],
            "image/png": "[encoded data removed]"
          },
          "metadata": {
            "needs_background": "light"
          }
        }
      ]
    },
    {
      "cell_type": "markdown",
      "source": [
        "Grid Search CV \n",
        "\n",
        "So, far we didn't do any hyperparameter tuning. We accepted the default value for learning rate of the Perceptron class.\n",
        "\n",
        "Now, let us search for a better learning rate using GridSearchCV.\n",
        "\n",
        "No matter what the learning rate is, the loss will never converge to zero as the classes are not linearly separable"
      ],
      "metadata": {
        "id": "Rnon6SwGhfZP"
      }
    },
    {
      "cell_type": "code",
      "source": [
        "from sklearn.metrics import make_scorer\n",
        "scoring = make_scorer(hinge_loss,greater_is_better=False)\n",
        "lr_grid = [1/2**n for n in range(1,6)]\n",
        "bin_clf_gscv = GridSearchCV(Perceptron(), param_grid={'eta0':lr_grid},scoring=scoring, cv=5)\n",
        "bin_clf_gscv.fit(x_train,y_train_0)"
      ],
      "metadata": {
        "colab": {
          "base_uri": "https://localhost:8080/"
        },
        "id": "nUJ2dS2chwoW",
        "outputId": "2c85b04a-4516-4ac6-fd1a-4fbac3b99c76"
      },
      "execution_count": null,
      "outputs": [
        {
          "output_type": "execute_result",
          "data": {
            "text/plain": [
              "GridSearchCV(cv=5, estimator=Perceptron(),\n",
              "             param_grid={'eta0': [0.5, 0.25, 0.125, 0.0625, 0.03125]},\n",
              "             scoring=make_scorer(hinge_loss, greater_is_better=False))"
            ]
          },
          "metadata": {},
          "execution_count": 38
        }
      ]
    },
    {
      "cell_type": "code",
      "source": [
        "print(bin_clf_gscv.cv_results_)\n",
        "#The best learning rate has turned out to be : 0.125"
      ],
      "metadata": {
        "colab": {
          "base_uri": "https://localhost:8080/"
        },
        "id": "vaoS4Sjkhyxt",
        "outputId": "ec45b7b7-f338-408d-9ea9-72efb175e779"
      },
      "execution_count": null,
      "outputs": [
        {
          "output_type": "stream",
          "name": "stdout",
          "text": [
            "{'mean_fit_time': array([1.11003919, 1.10735412, 1.05375762, 0.88546109, 0.81576352]), 'std_fit_time': array([0.29276234, 0.2904873 , 0.26383409, 0.12596164, 0.095855  ]), 'mean_score_time': array([0.0162569 , 0.01710286, 0.01664524, 0.01625333, 0.0175734 ]), 'std_score_time': array([0.00024566, 0.00179763, 0.00077808, 0.00032902, 0.00268042]), 'param_eta0': masked_array(data=[0.5, 0.25, 0.125, 0.0625, 0.03125],\n",
            "             mask=[False, False, False, False, False],\n",
            "       fill_value='?',\n",
            "            dtype=object), 'params': [{'eta0': 0.5}, {'eta0': 0.25}, {'eta0': 0.125}, {'eta0': 0.0625}, {'eta0': 0.03125}], 'split0_test_score': array([-0.02166667, -0.02166667, -0.02166667, -0.02166667, -0.02166667]), 'split1_test_score': array([-0.0395, -0.0395, -0.0395, -0.0395, -0.0395]), 'split2_test_score': array([-0.02816667, -0.02816667, -0.02816667, -0.02816667, -0.02816667]), 'split3_test_score': array([-0.023     , -0.023     , -0.023     , -0.04416667, -0.04416667]), 'split4_test_score': array([-0.03016667, -0.03016667, -0.01983333, -0.01983333, -0.077     ]), 'mean_test_score': array([-0.0285    , -0.0285    , -0.02643333, -0.03066667, -0.0421    ]), 'std_test_score': array([0.00633772, 0.00633772, 0.00709663, 0.0096425 , 0.01918697]), 'rank_test_score': array([2, 2, 1, 4, 5], dtype=int32)}\n"
          ]
        }
      ]
    },
    {
      "cell_type": "code",
      "source": [
        "iterations =100\n",
        "Loss = []\n",
        "best_bin_clf = Perceptron(max_iter=1000,random_state=2094,eta0=0.125)\n",
        "for i in range(iterations):\n",
        "  best_bin_clf.partial_fit(x_train, y_train_0, classes=np.array([1,-1]))\n",
        "  y_hat_0 = best_bin_clf.decision_function(x_train)\n",
        "  Loss.append(hinge_loss(y_train_0,y_hat_0))"
      ],
      "metadata": {
        "id": "D85jReeIiEwJ"
      },
      "execution_count": null,
      "outputs": []
    },
    {
      "cell_type": "code",
      "source": [
        "# Comparing the loss with the before learning rate (et0=1) with the best learning rate found (et0=0.125)\n",
        "plt.figure()\n",
        "plt.plot(np.arange(iterations),Loss_clf1,label='eta0=1')\n",
        "plt.plot(np.arange(iterations),Loss, label='eta0=0.125')\n",
        "plt.grid(True)\n",
        "plt.legend()\n",
        "plt.xlabel(\"Iteration\")\n",
        "plt.ylabel(\"Training Loss\")\n",
        "plt.show()"
      ],
      "metadata": {
        "colab": {
          "base_uri": "https://localhost:8080/",
          "height": 279
        },
        "id": "6j8gcx_ciji_",
        "outputId": "9410b762-57b2-4492-cdef-c9aef9b667b5"
      },
      "execution_count": null,
      "outputs": [
        {
          "output_type": "display_data",
          "data": {
            "text/plain": [
              "<Figure size 432x288 with 1 Axes>"
            ],
            "image/png": "[encoded data removed]"
          },
          "metadata": {
            "needs_background": "light"
          }
        }
      ]
    },
    {
      "cell_type": "code",
      "source": [
        "#Well, instead of instantiating a Perceptron class with a new learning rate and re-train the model, we could simply get the best_estimator from GridSearchCV as follows.\n",
        "best_bin_clf = bin_clf_gscv.best_estimator_\n",
        "print(best_bin_clf)"
      ],
      "metadata": {
        "colab": {
          "base_uri": "https://localhost:8080/"
        },
        "id": "j2lG1TkcjtYk",
        "outputId": "2319257f-77de-4f5c-bf97-ce4464d3ded6"
      },
      "execution_count": null,
      "outputs": [
        {
          "output_type": "stream",
          "name": "stdout",
          "text": [
            "Perceptron(eta0=0.125)\n"
          ]
        }
      ]
    },
    {
      "cell_type": "markdown",
      "source": [
        "# **Logistic** **Regression** **Model**\n",
        "1. **Binary Classifier (Sigmoid Non-Linear Function)**"
      ],
      "metadata": {
        "id": "FdrKWXPhhx80"
      }
    },
    {
      "cell_type": "code",
      "source": [
        "# 1. Training with regularization \n",
        "from sklearn.preprocessing import MinMaxScaler \n",
        "from sklearn.pipeline import make_pipeline \n",
        "from sklearn.dummy import DummyClassifier \n",
        "from sklearn.linear_model  import SGDClassifier, RidgeClassifier, LogisticRegression \n",
        "from sklearn.model_selection import cross_validate, RandomizedSearchCV, cross_val_predict \n",
        "from sklearn.metrics import log_loss # log loss is also known as cross entropy loss \n",
        "from sklearn.metrics import ConfusionMatrixDisplay \n",
        "from sklearn.metrics import precision_score, recall_score, classification_report \n",
        "from sklearn.metrics import precision_recall_curve \n",
        "from sklearn.metrics import roc_curve, roc_auc_score "
      ],
      "metadata": {
        "id": "DlDjXvlfjxXq"
      },
      "execution_count": null,
      "outputs": []
    },
    {
      "cell_type": "code",
      "source": [
        "bin_sgd_clf =SGDClassifier(loss='log',\n",
        "                           penalty='l2',\n",
        "                           warm_start=True,\n",
        "                           eta0=0.01,\n",
        "                           alpha=0,\n",
        "                           learning_rate='constant',\n",
        "                           random_state=1729)\n",
        "Loss=[] \n",
        "iterations=100\n",
        "for i in range(iterations):\n",
        "  bin_sgd_clf.fit(x_train,y_train_0)\n",
        "  y_pred=bin_sgd_clf.predict_proba(x_train)\n",
        "  Loss.append(log_loss(y_train_0,y_pred))"
      ],
      "metadata": {
        "id": "b8F99HUUqwzw"
      },
      "execution_count": null,
      "outputs": []
    },
    {
      "cell_type": "code",
      "source": [
        "plt.figure() \n",
        "plt.plot(np.arange(iterations),Loss)\n",
        "plt.grid(True)\n",
        "plt.xlabel('Iterations')\n",
        "plt.ylabel('Label') \n",
        "plt.show()"
      ],
      "metadata": {
        "colab": {
          "base_uri": "https://localhost:8080/",
          "height": 279
        },
        "id": "ZPqwW5d8rpSY",
        "outputId": "3c8458b8-712f-4600-f2c1-aa3c1a92047e"
      },
      "execution_count": null,
      "outputs": [
        {
          "output_type": "display_data",
          "data": {
            "text/plain": [
              "<Figure size 432x288 with 1 Axes>"
            ],
            "image/png": "[encoded data removed]"
          },
          "metadata": {
            "needs_background": "light"
          }
        }
      ]
    },
    {
      "cell_type": "code",
      "source": [
        "print('Training accuracy:{0:.2f}'.format(bin_sgd_clf.score(x_train,y_train_0)))\n",
        "print('Testing accuracy{0:.2f}'.format(bin_sgd_clf.score(x_test,y_test_0)))"
      ],
      "metadata": {
        "colab": {
          "base_uri": "https://localhost:8080/"
        },
        "id": "tyI7315_rrda",
        "outputId": "175657cc-bed3-4300-a2b9-7eab3682eb8f"
      },
      "execution_count": null,
      "outputs": [
        {
          "output_type": "stream",
          "name": "stdout",
          "text": [
            "Training accuracy:0.99\n",
            "Testing accuracy0.99\n"
          ]
        }
      ]
    },
    {
      "cell_type": "code",
      "source": [
        "y_hat_train_0 = bin_sgd_clf.predict(x_train)\n",
        "cm_display = ConfusionMatrixDisplay.from_predictions(y_train_0,y_hat_train_0,values_format='.5g')\n",
        "plt.show()"
      ],
      "metadata": {
        "colab": {
          "base_uri": "https://localhost:8080/",
          "height": 279
        },
        "id": "0B1idLHUscOG",
        "outputId": "88384263-789d-49ca-cb1f-9ece42db7c90"
      },
      "execution_count": null,
      "outputs": [
        {
          "output_type": "display_data",
          "data": {
            "text/plain": [
              "<Figure size 432x288 with 2 Axes>"
            ],
            "image/png": "[encoded data removed]"
          },
          "metadata": {
            "needs_background": "light"
          }
        }
      ]
    },
    {
      "cell_type": "code",
      "source": [
        "print(classification_report(y_train_0,y_hat_train_0))"
      ],
      "metadata": {
        "colab": {
          "base_uri": "https://localhost:8080/"
        },
        "id": "6SXrl6O6sf-C",
        "outputId": "2eaa00de-0fdf-41b8-a13d-e743a536b5a9"
      },
      "execution_count": null,
      "outputs": [
        {
          "output_type": "stream",
          "name": "stdout",
          "text": [
            "              precision    recall  f1-score   support\n",
            "\n",
            "        -1.0       1.00      1.00      1.00     54077\n",
            "         1.0       0.97      0.97      0.97      5923\n",
            "\n",
            "    accuracy                           0.99     60000\n",
            "   macro avg       0.99      0.98      0.98     60000\n",
            "weighted avg       0.99      0.99      0.99     60000\n",
            "\n"
          ]
        }
      ]
    },
    {
      "cell_type": "code",
      "source": [
        "# Cross validation : to check for the generalisation ability of the model\n",
        "estimator = SGDClassifier(loss='log',\n",
        "                          penalty='l2',\n",
        "                          max_iter=100,\n",
        "                          warm_start=False,\n",
        "                          eta0=0.01,\n",
        "                          alpha=0,\n",
        "                          learning_rate='constant',\n",
        "                          random_state=1729)"
      ],
      "metadata": {
        "id": "tZ3bR_SMtTz6"
      },
      "execution_count": null,
      "outputs": []
    },
    {
      "cell_type": "code",
      "source": [
        "cv_bin_clf = cross_validate(estimator,x_train,y_train_0,cv=5,\n",
        "                            scoring=['precision','recall','f1'],\n",
        "                            return_train_score=True,\n",
        "                            return_estimator=True)\n",
        "print(cv_bin_clf)"
      ],
      "metadata": {
        "colab": {
          "base_uri": "https://localhost:8080/"
        },
        "id": "452NLnOZg-_L",
        "outputId": "f1b20ae3-f3ca-40a7-c66c-50da5e445963"
      },
      "execution_count": null,
      "outputs": [
        {
          "output_type": "stream",
          "name": "stdout",
          "text": [
            "{'fit_time': array([1.9669137 , 1.34484291, 1.34596038, 1.47639799, 1.20033097]), 'score_time': array([0.03928876, 0.04569411, 0.03961897, 0.03909349, 0.04083204]), 'estimator': [SGDClassifier(alpha=0, eta0=0.01, learning_rate='constant', loss='log',\n",
            "              max_iter=100, random_state=1729), SGDClassifier(alpha=0, eta0=0.01, learning_rate='constant', loss='log',\n",
            "              max_iter=100, random_state=1729), SGDClassifier(alpha=0, eta0=0.01, learning_rate='constant', loss='log',\n",
            "              max_iter=100, random_state=1729), SGDClassifier(alpha=0, eta0=0.01, learning_rate='constant', loss='log',\n",
            "              max_iter=100, random_state=1729), SGDClassifier(alpha=0, eta0=0.01, learning_rate='constant', loss='log',\n",
            "              max_iter=100, random_state=1729)], 'test_precision': array([0.95538721, 0.96382429, 0.97238999, 0.96735395, 0.95952782]), 'train_precision': array([0.97419355, 0.97321046, 0.96473818, 0.97701149, 0.96404399]), 'test_recall': array([0.95861486, 0.94510135, 0.95105485, 0.95021097, 0.96033755]), 'train_recall': array([0.95589787, 0.95821903, 0.96433094, 0.95082313, 0.96200929]), 'test_f1': array([0.95699831, 0.954371  , 0.9616041 , 0.95870583, 0.95993252]), 'train_f1': array([0.96495899, 0.96565657, 0.96453452, 0.96373944, 0.96302557])}\n"
          ]
        }
      ]
    },
    {
      "cell_type": "markdown",
      "source": [
        "From the above result, we can see that Logistic Regression is better than the perceptron"
      ],
      "metadata": {
        "id": "QEpu3fljiNv6"
      }
    },
    {
      "cell_type": "markdown",
      "source": [
        "Hyper-parameter Tuning\n",
        "\n",
        "We have to use cross-validate folds and mesure the same metrics across these folds for different values of hyper-parameters.\n",
        "\n",
        "Logistic regression uses sgd solver and hence the learning rate and regularization rate are two important hyper-parameters.\n",
        "\n",
        "For the moment, we skip penalizing the parameters of the model and just search for a better learning rate using `RandomizedSearchCV()."
      ],
      "metadata": {
        "id": "AnY5ZaAOiRem"
      }
    },
    {
      "cell_type": "code",
      "source": [
        "estimator=SGDClassifier(loss='log',\n",
        "                        penalty='l2',\n",
        "                        max_iter=1,\n",
        "                        warm_start=True, \n",
        "                        eta0=0.01,\n",
        "                        alpha=0,\n",
        "                        learning_rate='constant',\n",
        "                        random_state=1729)"
      ],
      "metadata": {
        "id": "j4JUKWo8ozfG"
      },
      "execution_count": null,
      "outputs": []
    },
    {
      "cell_type": "code",
      "source": [
        "scores = RandomizedSearchCV(estimator,\n",
        "                            param_distributions={'eta0':lr_grid},\n",
        "                            cv=5,\n",
        "                            scoring=['precision','recall','f1'],\n",
        "                            n_iter=5,\n",
        "                            refit='f1')"
      ],
      "metadata": {
        "id": "rfWcs6H8pLeN"
      },
      "execution_count": null,
      "outputs": []
    },
    {
      "cell_type": "code",
      "source": [
        "scores.fit(x_train,y_train_0)"
      ],
      "metadata": {
        "colab": {
          "base_uri": "https://localhost:8080/"
        },
        "id": "miNyrl-kpPjA",
        "outputId": "71a2a1d0-0bcf-4ef8-a446-04c0ae00094c"
      },
      "execution_count": null,
      "outputs": [
        {
          "output_type": "stream",
          "name": "stderr",
          "text": [
            "/usr/local/lib/python3.7/dist-packages/sklearn/linear_model/_stochastic_gradient.py:700: ConvergenceWarning: Maximum number of iteration reached before convergence. Consider increasing max_iter to improve the fit.\n",
            "  ConvergenceWarning,\n",
            "/usr/local/lib/python3.7/dist-packages/sklearn/linear_model/_stochastic_gradient.py:700: ConvergenceWarning: Maximum number of iteration reached before convergence. Consider increasing max_iter to improve the fit.\n",
            "  ConvergenceWarning,\n",
            "/usr/local/lib/python3.7/dist-packages/sklearn/linear_model/_stochastic_gradient.py:700: ConvergenceWarning: Maximum number of iteration reached before convergence. Consider increasing max_iter to improve the fit.\n",
            "  ConvergenceWarning,\n",
            "/usr/local/lib/python3.7/dist-packages/sklearn/linear_model/_stochastic_gradient.py:700: ConvergenceWarning: Maximum number of iteration reached before convergence. Consider increasing max_iter to improve the fit.\n",
            "  ConvergenceWarning,\n",
            "/usr/local/lib/python3.7/dist-packages/sklearn/linear_model/_stochastic_gradient.py:700: ConvergenceWarning: Maximum number of iteration reached before convergence. Consider increasing max_iter to improve the fit.\n",
            "  ConvergenceWarning,\n",
            "/usr/local/lib/python3.7/dist-packages/sklearn/linear_model/_stochastic_gradient.py:700: ConvergenceWarning: Maximum number of iteration reached before convergence. Consider increasing max_iter to improve the fit.\n",
            "  ConvergenceWarning,\n",
            "/usr/local/lib/python3.7/dist-packages/sklearn/linear_model/_stochastic_gradient.py:700: ConvergenceWarning: Maximum number of iteration reached before convergence. Consider increasing max_iter to improve the fit.\n",
            "  ConvergenceWarning,\n",
            "/usr/local/lib/python3.7/dist-packages/sklearn/linear_model/_stochastic_gradient.py:700: ConvergenceWarning: Maximum number of iteration reached before convergence. Consider increasing max_iter to improve the fit.\n",
            "  ConvergenceWarning,\n",
            "/usr/local/lib/python3.7/dist-packages/sklearn/linear_model/_stochastic_gradient.py:700: ConvergenceWarning: Maximum number of iteration reached before convergence. Consider increasing max_iter to improve the fit.\n",
            "  ConvergenceWarning,\n",
            "/usr/local/lib/python3.7/dist-packages/sklearn/linear_model/_stochastic_gradient.py:700: ConvergenceWarning: Maximum number of iteration reached before convergence. Consider increasing max_iter to improve the fit.\n",
            "  ConvergenceWarning,\n",
            "/usr/local/lib/python3.7/dist-packages/sklearn/linear_model/_stochastic_gradient.py:700: ConvergenceWarning: Maximum number of iteration reached before convergence. Consider increasing max_iter to improve the fit.\n",
            "  ConvergenceWarning,\n",
            "/usr/local/lib/python3.7/dist-packages/sklearn/linear_model/_stochastic_gradient.py:700: ConvergenceWarning: Maximum number of iteration reached before convergence. Consider increasing max_iter to improve the fit.\n",
            "  ConvergenceWarning,\n",
            "/usr/local/lib/python3.7/dist-packages/sklearn/linear_model/_stochastic_gradient.py:700: ConvergenceWarning: Maximum number of iteration reached before convergence. Consider increasing max_iter to improve the fit.\n",
            "  ConvergenceWarning,\n",
            "/usr/local/lib/python3.7/dist-packages/sklearn/linear_model/_stochastic_gradient.py:700: ConvergenceWarning: Maximum number of iteration reached before convergence. Consider increasing max_iter to improve the fit.\n",
            "  ConvergenceWarning,\n",
            "/usr/local/lib/python3.7/dist-packages/sklearn/linear_model/_stochastic_gradient.py:700: ConvergenceWarning: Maximum number of iteration reached before convergence. Consider increasing max_iter to improve the fit.\n",
            "  ConvergenceWarning,\n",
            "/usr/local/lib/python3.7/dist-packages/sklearn/linear_model/_stochastic_gradient.py:700: ConvergenceWarning: Maximum number of iteration reached before convergence. Consider increasing max_iter to improve the fit.\n",
            "  ConvergenceWarning,\n",
            "/usr/local/lib/python3.7/dist-packages/sklearn/linear_model/_stochastic_gradient.py:700: ConvergenceWarning: Maximum number of iteration reached before convergence. Consider increasing max_iter to improve the fit.\n",
            "  ConvergenceWarning,\n",
            "/usr/local/lib/python3.7/dist-packages/sklearn/linear_model/_stochastic_gradient.py:700: ConvergenceWarning: Maximum number of iteration reached before convergence. Consider increasing max_iter to improve the fit.\n",
            "  ConvergenceWarning,\n",
            "/usr/local/lib/python3.7/dist-packages/sklearn/linear_model/_stochastic_gradient.py:700: ConvergenceWarning: Maximum number of iteration reached before convergence. Consider increasing max_iter to improve the fit.\n",
            "  ConvergenceWarning,\n",
            "/usr/local/lib/python3.7/dist-packages/sklearn/linear_model/_stochastic_gradient.py:700: ConvergenceWarning: Maximum number of iteration reached before convergence. Consider increasing max_iter to improve the fit.\n",
            "  ConvergenceWarning,\n",
            "/usr/local/lib/python3.7/dist-packages/sklearn/linear_model/_stochastic_gradient.py:700: ConvergenceWarning: Maximum number of iteration reached before convergence. Consider increasing max_iter to improve the fit.\n",
            "  ConvergenceWarning,\n",
            "/usr/local/lib/python3.7/dist-packages/sklearn/linear_model/_stochastic_gradient.py:700: ConvergenceWarning: Maximum number of iteration reached before convergence. Consider increasing max_iter to improve the fit.\n",
            "  ConvergenceWarning,\n",
            "/usr/local/lib/python3.7/dist-packages/sklearn/linear_model/_stochastic_gradient.py:700: ConvergenceWarning: Maximum number of iteration reached before convergence. Consider increasing max_iter to improve the fit.\n",
            "  ConvergenceWarning,\n",
            "/usr/local/lib/python3.7/dist-packages/sklearn/linear_model/_stochastic_gradient.py:700: ConvergenceWarning: Maximum number of iteration reached before convergence. Consider increasing max_iter to improve the fit.\n",
            "  ConvergenceWarning,\n",
            "/usr/local/lib/python3.7/dist-packages/sklearn/linear_model/_stochastic_gradient.py:700: ConvergenceWarning: Maximum number of iteration reached before convergence. Consider increasing max_iter to improve the fit.\n",
            "  ConvergenceWarning,\n",
            "/usr/local/lib/python3.7/dist-packages/sklearn/linear_model/_stochastic_gradient.py:700: ConvergenceWarning: Maximum number of iteration reached before convergence. Consider increasing max_iter to improve the fit.\n",
            "  ConvergenceWarning,\n"
          ]
        },
        {
          "output_type": "execute_result",
          "data": {
            "text/plain": [
              "RandomizedSearchCV(cv=5,\n",
              "                   estimator=SGDClassifier(alpha=0, eta0=0.01,\n",
              "                                           learning_rate='constant', loss='log',\n",
              "                                           max_iter=1, random_state=1729,\n",
              "                                           warm_start=True),\n",
              "                   n_iter=5,\n",
              "                   param_distributions={'eta0': [0.5, 0.25, 0.125, 0.0625,\n",
              "                                                 0.03125]},\n",
              "                   refit='f1', scoring=['precision', 'recall', 'f1'])"
            ]
          },
          "metadata": {},
          "execution_count": 56
        }
      ]
    },
    {
      "cell_type": "code",
      "source": [
        "best_bin_clf = scores.best_estimator_"
      ],
      "metadata": {
        "id": "fbBEsCPppZ5U"
      },
      "execution_count": null,
      "outputs": []
    },
    {
      "cell_type": "code",
      "source": [
        "y_hat_train_best_0 = best_bin_clf.predict(x_train)"
      ],
      "metadata": {
        "id": "zR4X7GqdpgDC"
      },
      "execution_count": null,
      "outputs": []
    },
    {
      "cell_type": "code",
      "source": [
        "print(classification_report(y_train_0, y_hat_train_best_0))"
      ],
      "metadata": {
        "colab": {
          "base_uri": "https://localhost:8080/"
        },
        "id": "DGShTGNOpgLk",
        "outputId": "0ebd295c-e3f8-4bfa-905c-d21681277e81"
      },
      "execution_count": null,
      "outputs": [
        {
          "output_type": "stream",
          "name": "stdout",
          "text": [
            "              precision    recall  f1-score   support\n",
            "\n",
            "        -1.0       0.99      1.00      0.99     54077\n",
            "         1.0       0.99      0.88      0.93      5923\n",
            "\n",
            "    accuracy                           0.99     60000\n",
            "   macro avg       0.99      0.94      0.96     60000\n",
            "weighted avg       0.99      0.99      0.99     60000\n",
            "\n"
          ]
        }
      ]
    },
    {
      "cell_type": "code",
      "source": [
        "# Precision-Recall Trade Off\n",
        "y_scores = bin_sgd_clf.decision_function(x_train)\n",
        "precisions, recalls, thresholds = precision_recall_curve(y_train_0,y_scores)\n",
        "plt.figure(figsize=(10,4)) \n",
        "plt.plot(thresholds,precisions[:-1],'r--',label='precisions')\n",
        "plt.plot(thresholds,recalls[:-1],'b-',label='recalls')\n",
        "plt.legend(loc='upper right')\n",
        "plt.grid(True)\n",
        "plt.xlabel('thresholds')\n",
        "plt.show()"
      ],
      "metadata": {
        "colab": {
          "base_uri": "https://localhost:8080/",
          "height": 279
        },
        "id": "uUukogTkpgXs",
        "outputId": "99bd5b65-aec6-40dc-8d76-3033c2fcb88b"
      },
      "execution_count": null,
      "outputs": [
        {
          "output_type": "display_data",
          "data": {
            "text/plain": [
              "<Figure size 720x288 with 1 Axes>"
            ],
            "image/png": "[encoded data removed]"
          },
          "metadata": {
            "needs_background": "light"
          }
        }
      ]
    },
    {
      "cell_type": "code",
      "source": [
        "plt.figure(figsize=(10,4))\n",
        "plt.plot(recalls[:-1],precisions[:-1], 'b-')\n",
        "plt.xlabel('Recall')\n",
        "plt.ylabel('Precision')\n",
        "plt.grid(True)\n",
        "plt.show()"
      ],
      "metadata": {
        "colab": {
          "base_uri": "https://localhost:8080/",
          "height": 279
        },
        "id": "us8BpeWdsCbu",
        "outputId": "75e3c92d-35c4-4aab-a21b-ec7ac1ee4744"
      },
      "execution_count": null,
      "outputs": [
        {
          "output_type": "display_data",
          "data": {
            "text/plain": [
              "<Figure size 720x288 with 1 Axes>"
            ],
            "image/png": "[encoded data removed]"
          },
          "metadata": {
            "needs_background": "light"
          }
        }
      ]
    },
    {
      "cell_type": "markdown",
      "source": [
        "2. **Multi Classifier (Soft-max Regression)**"
      ],
      "metadata": {
        "id": "CYrOdQSoieKC"
      }
    },
    {
      "cell_type": "code",
      "source": [
        "import numpy as np \n",
        "from pprint import pprint \n",
        "#to make this notebook's output stable across runs \n",
        "np.random.seed(42) \n",
        "\n",
        "from sklearn.datasets import fetch_openml \n",
        "from sklearn.preprocessing import StandardScaler \n",
        "\n",
        "from sklearn.pipeline import Pipeline \n",
        "\n",
        "from sklearn.linear_model import LogisticRegression, LogisticRegressionCV \n",
        "\n",
        "from sklearn.metrics import ConfusionMatrixDisplay \n",
        "from sklearn.metrics import classification_report \n",
        "from sklearn.metrics import f1_score \n",
        "from sklearn.metrics import make_scorer \n",
        "\n",
        "import matplotlib.pyplot as plt \n",
        "import matplotlib as mpl \n",
        "import seaborn as sns "
      ],
      "metadata": {
        "id": "saYVtY51tx5m"
      },
      "execution_count": null,
      "outputs": []
    },
    {
      "cell_type": "code",
      "source": [
        "X,y = fetch_openml('mnist_784',return_X_y=True, version=1)\n",
        "\n",
        "#Training test split \n",
        "X = X.to_numpy() \n",
        "y = y.to_numpy() \n",
        "x_train,x_test,y_train, y_test = X[:60000],X[60000:],y[:60000],y[60000:]"
      ],
      "metadata": {
        "id": "M1UdUrfiALUa"
      },
      "execution_count": null,
      "outputs": []
    },
    {
      "cell_type": "code",
      "source": [
        "pipe = Pipeline([('scaler',StandardScaler()),\n",
        "                 ('logreg',LogisticRegression(multi_class='multinomial',solver='sag'))]) \n",
        "pipe.fit(x_train,y_train)"
      ],
      "metadata": {
        "colab": {
          "base_uri": "https://localhost:8080/"
        },
        "id": "3sRwwzBlACtp",
        "outputId": "7e154524-0892-41f0-e7df-e88500204c8c"
      },
      "execution_count": null,
      "outputs": [
        {
          "output_type": "stream",
          "name": "stderr",
          "text": [
            "/usr/local/lib/python3.7/dist-packages/sklearn/linear_model/_sag.py:354: ConvergenceWarning: The max_iter was reached which means the coef_ did not converge\n",
            "  ConvergenceWarning,\n"
          ]
        },
        {
          "output_type": "execute_result",
          "data": {
            "text/plain": [
              "Pipeline(steps=[('scaler', StandardScaler()),\n",
              "                ('logreg',\n",
              "                 LogisticRegression(multi_class='multinomial', solver='sag'))])"
            ]
          },
          "metadata": {},
          "execution_count": 7
        }
      ]
    },
    {
      "cell_type": "code",
      "source": [
        "print('Training Accuracy:',pipe.score(x_train,y_train))\n",
        "print('Testing Accuracy:',pipe.score(x_test,y_test))"
      ],
      "metadata": {
        "colab": {
          "base_uri": "https://localhost:8080/"
        },
        "id": "WNbBmQ32E2BR",
        "outputId": "64dd9dcf-1125-4719-be5d-f287524033d3"
      },
      "execution_count": null,
      "outputs": [
        {
          "output_type": "stream",
          "name": "stdout",
          "text": [
            "Training Accuracy: 0.9304833333333333\n",
            "Testing Accuracy: 0.9246\n"
          ]
        }
      ]
    },
    {
      "cell_type": "code",
      "source": [
        "print(pipe[-1].intercept_)\n",
        "print(pipe[-1].classes_)"
      ],
      "metadata": {
        "colab": {
          "base_uri": "https://localhost:8080/"
        },
        "id": "XJimR1nIE_BG",
        "outputId": "fc6425d8-7e04-4bca-cec5-3ea30381e175"
      },
      "execution_count": null,
      "outputs": [
        {
          "output_type": "stream",
          "name": "stdout",
          "text": [
            "[-0.25685025 -0.49027215  0.23085592  0.24481755 -0.32790419  0.30847999\n",
            " -0.20061639 -0.25981866  0.70651021  0.04479797]\n",
            "['0' '1' '2' '3' '4' '5' '6' '7' '8' '9']\n"
          ]
        }
      ]
    },
    {
      "cell_type": "code",
      "source": [
        "y_pred = pipe.predict(x_test)\n",
        "print(classification_report(y_test, y_pred))"
      ],
      "metadata": {
        "colab": {
          "base_uri": "https://localhost:8080/"
        },
        "id": "amI1I2pSFbc6",
        "outputId": "953481f8-9423-40ea-fac4-d6d983b10e79"
      },
      "execution_count": null,
      "outputs": [
        {
          "output_type": "stream",
          "name": "stdout",
          "text": [
            "              precision    recall  f1-score   support\n",
            "\n",
            "           0       0.95      0.98      0.97       980\n",
            "           1       0.96      0.98      0.97      1135\n",
            "           2       0.94      0.90      0.92      1032\n",
            "           3       0.91      0.91      0.91      1010\n",
            "           4       0.92      0.94      0.93       982\n",
            "           5       0.91      0.87      0.89       892\n",
            "           6       0.93      0.95      0.94       958\n",
            "           7       0.92      0.93      0.92      1028\n",
            "           8       0.88      0.88      0.88       974\n",
            "           9       0.91      0.91      0.91      1009\n",
            "\n",
            "    accuracy                           0.92     10000\n",
            "   macro avg       0.92      0.92      0.92     10000\n",
            "weighted avg       0.92      0.92      0.92     10000\n",
            "\n"
          ]
        }
      ]
    },
    {
      "cell_type": "code",
      "source": [
        "cm = ConfusionMatrixDisplay.from_predictions(y_test, y_pred)"
      ],
      "metadata": {
        "colab": {
          "base_uri": "https://localhost:8080/",
          "height": 279
        },
        "id": "Lt0USHG3FciH",
        "outputId": "bdd82195-731e-4a90-b878-9cf736bce20f"
      },
      "execution_count": null,
      "outputs": [
        {
          "output_type": "display_data",
          "data": {
            "text/plain": [
              "<Figure size 432x288 with 2 Axes>"
            ],
            "image/png": "[encoded data removed]"
          },
          "metadata": {
            "needs_background": "light"
          }
        }
      ]
    }
  ]
}